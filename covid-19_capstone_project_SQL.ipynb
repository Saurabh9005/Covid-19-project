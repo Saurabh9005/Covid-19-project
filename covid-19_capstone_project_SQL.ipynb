{
 "cells": [
  {
   "cell_type": "markdown",
   "id": "87dc9564",
   "metadata": {},
   "source": [
    "### Name : Saurabh Pandey\n",
    "### S.ID    : S996\n",
    "### SQL Queries using PyMySQL"
   ]
  },
  {
   "cell_type": "code",
   "execution_count": 48,
   "id": "74b6fdd8",
   "metadata": {},
   "outputs": [
    {
     "name": "stdout",
     "output_type": "stream",
     "text": [
      "Requirement already satisfied: pymysql in c:\\users\\dell\\anaconda3\\lib\\site-packages (1.0.3)\n"
     ]
    }
   ],
   "source": [
    "!pip install pymysql\n",
    "import pymysql\n",
    "\n",
    "# Connecting to the MySQL server\n",
    "connection = pymysql.connect(host='localhost',user='root',password='Saur@1234')\n",
    "\n",
    "cursor = connection.cursor()"
   ]
  },
  {
   "cell_type": "code",
   "execution_count": 56,
   "id": "029b5a75",
   "metadata": {},
   "outputs": [
    {
     "data": {
      "text/plain": [
       "1"
      ]
     },
     "execution_count": 56,
     "metadata": {},
     "output_type": "execute_result"
    }
   ],
   "source": [
    "# Create a database named covid_data\n",
    "sql = \"CREATE DATABASE clean_covid_data\"\n",
    "cursor.execute(sql)"
   ]
  },
  {
   "cell_type": "code",
   "execution_count": 58,
   "id": "fe8e5e0d",
   "metadata": {},
   "outputs": [],
   "source": [
    "# Create a table\n",
    "sql = \"CREATE TABLE covid2 (Ind_ID int,Test_date date,Cough_symptoms varchar(127),Fever varchar(127),Sore_throat varchar(127),Shortness_of_breath varchar(127),Headache varchar(127),Corona varchar(127),Age_60_above varchar(127),Gender varchar(127),Known_contact varchar(127))\"\n",
    "cursor.execute(sql)\n",
    "\n",
    "# Commit the changes to the database\n",
    "connection.commit()\n",
    "\n",
    "# Close the connection\n",
    "connection.close()"
   ]
  },
  {
   "cell_type": "code",
   "execution_count": 60,
   "id": "0f15e28f",
   "metadata": {},
   "outputs": [
    {
     "name": "stderr",
     "output_type": "stream",
     "text": [
      "C:\\Users\\dell\\AppData\\Local\\Temp\\ipykernel_11852\\4282971283.py:2: DtypeWarning: Columns (8) have mixed types. Specify dtype option on import or set low_memory=False.\n",
      "  df = pd.read_csv(\"covid1.csv\")\n"
     ]
    }
   ],
   "source": [
    "import pandas as pd\n",
    "df = pd.read_csv(\"covid1.csv\")\n"
   ]
  },
  {
   "cell_type": "code",
   "execution_count": null,
   "id": "c9cddac1",
   "metadata": {},
   "outputs": [],
   "source": [
    "conn = pymysql.connect(host='localhost', user='root', password='Saur@1234', database='clean_covid_data')\n",
    "cursor = conn.cursor()\n",
    "\n",
    "cols = \",\".join(df.columns)\n",
    "\n",
    "# Iterate over the rows of the dataframe\n",
    "for i, row in df.iterrows():\n",
    "    # Create the values string for the insert statement\n",
    "    values = \",\".join([\"'\" + str(x) + \"'\" for x in row.tolist()])\n",
    "    \n",
    "    # Execute the insert statement\n",
    "    sql = \"INSERT INTO covid ({}) VALUES ({})\".format(cols, values)\n",
    "    cursor.execute(sql)\n",
    "    conn.commit()\n",
    "\n",
    "# Close the cursor and connection\n",
    "cursor.close()\n",
    "conn.close()"
   ]
  },
  {
   "cell_type": "markdown",
   "id": "bfa7b982",
   "metadata": {},
   "source": [
    "**Ques 1. Find the number of corona patients who faced shortness of breath.**"
   ]
  },
  {
   "cell_type": "code",
   "execution_count": null,
   "id": "b4026d94",
   "metadata": {},
   "outputs": [],
   "source": [
    "connection = pymysql.connect(host='localhost',user='root',password='Saur@1234',db='clean_covid_data')\n",
    "\n",
    "cursor = connection.cursor()\n",
    "\n",
    "sql = \"select count(*) from covid where corona = 'positive' and Shortness_of_breath = 'true'\"\n",
    "\n",
    "cursor.execute(sql)\n",
    "\n",
    "results = cursor.fetchall()\n",
    "\n",
    "for row in results:\n",
    "    print(row)\n",
    "\n",
    "# Close the connection when you're done\n",
    "connection.close()\n"
   ]
  },
  {
   "cell_type": "markdown",
   "id": "25a00a3e",
   "metadata": {},
   "source": [
    "\n",
    "**Ques 2. Find the number of negative corona patients who have fever and sore_throat.**\n"
   ]
  },
  {
   "cell_type": "code",
   "execution_count": null,
   "id": "8902895e",
   "metadata": {},
   "outputs": [],
   "source": [
    "connection = pymysql.connect(host='localhost',user='root',password='Saur@1234',db='clean_covid_data')\n",
    "\n",
    "cursor = connection.cursor()\n",
    "\n",
    "sql = \"select count(*) from covid where corona = 'negative' and Fever = 'true' and Sore_throat = 'true'\"\n",
    "\n",
    "cursor.execute(sql)\n",
    "\n",
    "results = cursor.fetchall()\n",
    "\n",
    "for row in results:\n",
    "    print(row)\n",
    "\n",
    "# Close the connection when you're done\n",
    "connection.close()"
   ]
  },
  {
   "cell_type": "markdown",
   "id": "b90a991a",
   "metadata": {},
   "source": [
    "**Ques 3. Group the data by month and rank the number of positive cases.**"
   ]
  },
  {
   "cell_type": "code",
   "execution_count": null,
   "id": "c7354ca6",
   "metadata": {},
   "outputs": [],
   "source": [
    "connection = pymysql.connect(host='localhost',user='root',password='Saur@1234',db='clean_covid_data')\n",
    "\n",
    "cursor = connection.cursor()\n",
    "query = \"SELECT MONTH(Test_date) AS month, COUNT(*) AS positive_cases FROM (select * from covid where corona = 'positive') abc GROUP BY MONTH(Test_date) ORDER BY positive_cases DESC\"\n",
    "cursor.execute(query)\n",
    "\n",
    "results = cursor.fetchall()\n",
    "\n",
    "for row in results:\n",
    "    print(row)\n",
    "\n",
    "# Close the connection when you're done\n",
    "connection.close()"
   ]
  },
  {
   "cell_type": "markdown",
   "id": "76acce1a",
   "metadata": {},
   "source": [
    "**Ques 4. Find the female negative corona patients who faced cough and headache.**\n"
   ]
  },
  {
   "cell_type": "code",
   "execution_count": null,
   "id": "1851fd51",
   "metadata": {},
   "outputs": [],
   "source": [
    "connection = pymysql.connect(host='localhost',user='root',password='Saur@1234',db='clean_covid_data')\n",
    "\n",
    "cursor = connection.cursor()\n",
    "\n",
    "sql = \"select * from covid where corona = 'negative' and Cough_symptoms = 'true' and Headache = 'true' and Gender = 'female'\"\n",
    "\n",
    "cursor.execute(sql)\n",
    "\n",
    "results = cursor.fetchall()\n",
    "\n",
    "for row in results:\n",
    "    print(row)\n",
    "\n",
    "# Close the connection when you're done\n",
    "connection.close()"
   ]
  },
  {
   "cell_type": "markdown",
   "id": "c65b83ab",
   "metadata": {},
   "source": [
    "\n",
    "**Ques 5. How many elderly corona patients have faced breathing problems?**\n"
   ]
  },
  {
   "cell_type": "code",
   "execution_count": null,
   "id": "28b14415",
   "metadata": {},
   "outputs": [],
   "source": [
    "connection = pymysql.connect(host='localhost',user='root',password='Saur@1234',db='clean_covid_data')\n",
    "\n",
    "cursor = connection.cursor()\n",
    "\n",
    "sql = \"select count(*) from covid where corona = 'positive' and  Shortness_of_breath = 'true' and Age_60_above = 'yes'\"\n",
    "\n",
    "cursor.execute(sql)\n",
    "\n",
    "results = cursor.fetchall()\n",
    "\n",
    "for row in results:\n",
    "    print(row)\n",
    "\n",
    "# Close the connection when you're done\n",
    "connection.close()"
   ]
  },
  {
   "cell_type": "markdown",
   "id": "df4e3ffc",
   "metadata": {},
   "source": [
    "\n",
    "**Ques 6. Which three symptoms were more common among COVID positive patients?**\n"
   ]
  },
  {
   "cell_type": "code",
   "execution_count": null,
   "id": "89e25c28",
   "metadata": {},
   "outputs": [],
   "source": [
    "connection = pymysql.connect(host='localhost',user='root',password='Saur@1234',db='clean_covid_data')\n",
    "\n",
    "cursor = connection.cursor()\n",
    "\n",
    "sql = \"\"\" select * from (\n",
    "    select cough_symptoms , count(*) as cnt from covid where corona = 'positive' and cough_symptoms ='true'\n",
    "    union all\n",
    "    select  Fever, count(*) as cnt from covid where corona = 'positive' and Fever ='True'\n",
    "    union all\n",
    "    select  Sore_throat, count(*) as cnt from covid where corona = 'positive' and Sore_throat ='true'\n",
    "    union all\n",
    "    select  Shortness_of_breath, count(*) as cnt from covid where corona = 'positive' and Shortness_of_breath ='true'\n",
    "    union all\n",
    "    select  Headache, count(*) as cnt from covid where corona = 'positive' and Headache ='true'\n",
    "   ) abc order by cnt desc\n",
    "\n",
    "\"\"\"\n",
    "cursor.execute(sql)\n",
    "\n",
    "results = cursor.fetchall()\n",
    "\n",
    "for row in results:\n",
    "    print(row)\n",
    "\n",
    "# Close the connection when you're done\n",
    "connection.close()"
   ]
  },
  {
   "cell_type": "markdown",
   "id": "8f88ea7e",
   "metadata": {},
   "source": [
    "**Top 3 symptoms are Coughness,Fever and Headache are most common symptoms**"
   ]
  },
  {
   "cell_type": "markdown",
   "id": "8a77ceab",
   "metadata": {},
   "source": [
    "\n",
    "# **Ques 7. Which symptom was less common among COVID negative people?**\n"
   ]
  },
  {
   "cell_type": "code",
   "execution_count": null,
   "id": "12a1f9cf",
   "metadata": {},
   "outputs": [],
   "source": [
    "connection = pymysql.connect(host='localhost',user='root',password='Saur@1234',db='clean_covid_data')\n",
    "\n",
    "cursor = connection.cursor()\n",
    "\n",
    "sql = \"\"\" select * from (\n",
    "    select cough_symptoms , count(*) as cnt from covid where corona = 'negative' and cough_symptoms ='True'\n",
    "    union all\n",
    "    select  Fever, count(*) as cnt from covid where corona = 'negative' and Fever ='True'\n",
    "    union all\n",
    "    select  Sore_throat, count(*) as cnt from covid where corona = 'negative' and Sore_throat ='True'\n",
    "    union all\n",
    "    select  Shortness_of_breath, count(*) as cnt from covid where corona = 'negative' and Shortness_of_breath ='True'\n",
    "    union all\n",
    "    select  Headache, count(*) as cnt from covid where corona = 'negative' and Headache ='True'\n",
    "  \n",
    "    ) abc order by cnt\n",
    "\"\"\"\n",
    "cursor.execute(sql)\n",
    "\n",
    "results = cursor.fetchall()\n",
    "\n",
    "for row in results:\n",
    "    print(row)\n",
    "\n",
    "# Close the connection when you're done\n",
    "connection.close()"
   ]
  },
  {
   "cell_type": "markdown",
   "id": "d9f18bfa",
   "metadata": {},
   "source": [
    "**Shortness of breath , Headache and Sore_throat was less common amongst covid negative people**"
   ]
  },
  {
   "cell_type": "markdown",
   "id": "0c13c0f9",
   "metadata": {},
   "source": [
    "\n",
    "## **Ques 8. What are the most common symptoms among COVID positive males whose known contact was abroad?**"
   ]
  },
  {
   "cell_type": "code",
   "execution_count": null,
   "id": "e15e9720",
   "metadata": {},
   "outputs": [],
   "source": [
    "connection = pymysql.connect(host='localhost',user='root',password='Saur@1234',db='clean_covid_data')\n",
    "\n",
    "cursor = connection.cursor()\n",
    "\n",
    "sql = \"\"\"\n",
    "    select cough_symptoms , count(*) as cnt from covid \n",
    "    where corona = 'positive' and cough_symptoms ='True' \n",
    "    and gender = 'male' and known_contact = 'Abroad'\n",
    "    union all\n",
    "    select  Fever, count(*) as cnt from covid \n",
    "    where corona = 'positive' and Fever ='True'\n",
    "    and gender = 'male' and known_contact = 'Abroad'\n",
    "    union all\n",
    "    select  Sore_throat, count(*) as cnt from covid \n",
    "    where corona = 'positive' and Sore_throat ='True'\n",
    "    and gender = 'male' and known_contact = 'Abroad'\n",
    "    union all\n",
    "    select  Shortness_of_breath, count(*) as cnt from covid \n",
    "    where corona = 'positive' and Shortness_of_breath ='True'\n",
    "    and gender = 'male' and known_contact = 'Abroad'\n",
    "    union all\n",
    "    select  Headache, count(*) as cnt from covid \n",
    "    where corona = 'positive' and Headache ='True'\n",
    "    and gender = 'male' and known_contact = 'Abroad'\n",
    "   \n",
    "\n",
    "\"\"\"\n",
    "cursor.execute(sql)\n",
    "\n",
    "results = cursor.fetchall()\n",
    "\n",
    "for row in results:\n",
    "    print(row)\n",
    "\n",
    "# Close the connection when you're done\n",
    "connection.close()"
   ]
  },
  {
   "cell_type": "markdown",
   "id": "b1b48ce0",
   "metadata": {},
   "source": [
    "**Cough and fever are the most common amongst patient with abroad contact**"
   ]
  },
  {
   "cell_type": "markdown",
   "id": "624aa4c0",
   "metadata": {},
   "source": [
    "## **9.Number of positive patients having all the symptoms**"
   ]
  },
  {
   "cell_type": "code",
   "execution_count": null,
   "id": "ebecc31c",
   "metadata": {},
   "outputs": [],
   "source": [
    "connection = pymysql.connect(host='localhost',user='root',password='Saur@1234',db='clean_covid_data')\n",
    "\n",
    "cursor = connection.cursor()\n",
    "\n",
    "sql = \"select count(*) from covid where corona = 'positive' and Cough_symptoms = 'true' and Fever = 'true' and Sore_throat = 'true' and  Shortness_of_breath = 'true' and  Headache = 'true' \"\n",
    "\n",
    "cursor.execute(sql)\n",
    "\n",
    "results = cursor.fetchall()\n",
    "\n",
    "for row in results:\n",
    "    print(row)\n",
    "\n",
    "# Close the connection when you're done\n",
    "connection.close()"
   ]
  },
  {
   "cell_type": "markdown",
   "id": "54ec359f",
   "metadata": {},
   "source": [
    "## 10.Number of negative patients having all the symptoms"
   ]
  },
  {
   "cell_type": "code",
   "execution_count": null,
   "id": "4296be36",
   "metadata": {},
   "outputs": [],
   "source": [
    "connection = pymysql.connect(host='localhost',user='root',password='Saur@1234',db='clean_covid_data')\n",
    "\n",
    "cursor = connection.cursor()\n",
    "\n",
    "sql = \"select count(*) from covid where corona = 'negative' and Cough_symptoms = 'true' and Fever = 'true' and Sore_throat = 'true' and  Shortness_of_breath = 'true' and  Headache = 'true' \"\n",
    "\n",
    "cursor.execute(sql)\n",
    "\n",
    "results = cursor.fetchall()\n",
    "\n",
    "for row in results:\n",
    "    print(row)\n",
    "\n",
    "# Close the connection when you're done\n",
    "connection.close()"
   ]
  },
  {
   "cell_type": "code",
   "execution_count": null,
   "id": "15c19ffc",
   "metadata": {},
   "outputs": [],
   "source": []
  }
 ],
 "metadata": {
  "kernelspec": {
   "display_name": "Python 3 (ipykernel)",
   "language": "python",
   "name": "python3"
  },
  "language_info": {
   "codemirror_mode": {
    "name": "ipython",
    "version": 3
   },
   "file_extension": ".py",
   "mimetype": "text/x-python",
   "name": "python",
   "nbconvert_exporter": "python",
   "pygments_lexer": "ipython3",
   "version": "3.10.9"
  }
 },
 "nbformat": 4,
 "nbformat_minor": 5
}
