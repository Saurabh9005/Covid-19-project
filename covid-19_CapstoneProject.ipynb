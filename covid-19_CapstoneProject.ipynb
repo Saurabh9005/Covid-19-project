{
 "cells": [
  {
   "cell_type": "code",
   "execution_count": null,
   "metadata": {
    "id": "6gAD1AEpMAjx"
   },
   "outputs": [],
   "source": []
  },
  {
   "cell_type": "markdown",
   "metadata": {
    "id": "pEzRv8eJMl7c"
   },
   "source": [
    "Predicting the test results of a disease, such as COVID-19, accurately using machine learning has several important implications in today's world:\n",
    "\n",
    "1.Early detection and intervention: Accurate prediction of disease test results can enable early detection of the disease, which can lead to timely intervention and treatment. Early diagnosis allows for prompt isolation of infected individuals, contact tracing, and appropriate medical care, which can help prevent the spread of the disease and improve patient outcomes.\n",
    "\n",
    "2.Resource allocation and healthcare burden reduction: Accurate prediction of disease test results can help in effective allocation of healthcare resources, such as hospital beds, ventilators, and medical personnel, to those who are more likely to test positive. This can help in managing healthcare burden, optimizing resource utilization, and ensuring that healthcare facilities are prepared to handle the influx of patients.\n",
    "\n",
    "3.Improved patient management: Accurate prediction of disease test results can aid in better patient management, including personalized treatment plans and monitoring. It can also help in identifying high-risk patients who may require more intensive care and support.\n",
    "\n",
    "4.Cost-effective screening: Accurate prediction of disease test results can help in targeted screening efforts, focusing on individuals who are more likely to test positive. This can result in cost-effective screening strategies, reducing unnecessary testing and associated costs.\n",
    "\n",
    "5.Future applicability: The knowledge and insights gained from developing a machine learning model for predicting disease test results can be applicable to other diseases as well. The methodologies, techniques, and data analysis approaches used in the proposed model can potentially be adapted for other infectious diseases or health conditions, thus contributing to the broader field of medical research and healthcare.\n",
    "\n",
    "The gap in knowledge that the proposed method can potentially address could be related to the lack of accurate and timely prediction of disease test results, which could lead to delays in diagnosis, treatment, and resource allocation. By developing a machine learning model that can accurately predict disease test results, we can bridge this gap and contribute to improving healthcare outcomes, reducing healthcare burden, and advancing medical research in the field of infectious diseases."
   ]
  },
  {
   "cell_type": "code",
   "execution_count": null,
   "metadata": {
    "id": "cVnlwhVoMmNc"
   },
   "outputs": [],
   "source": []
  },
  {
   "cell_type": "code",
   "execution_count": 1,
   "metadata": {
    "id": "XD33xaI9Mmdy"
   },
   "outputs": [
    {
     "name": "stderr",
     "output_type": "stream",
     "text": [
      "Matplotlib is building the font cache; this may take a moment.\n"
     ]
    }
   ],
   "source": [
    "#importing necessary libraries\n",
    "\n",
    "import numpy as np\n",
    "import pandas as pd\n",
    "import matplotlib.pyplot as plt\n",
    "import seaborn as sns\n",
    "\n",
    "from sklearn.feature_selection import SelectKBest\n",
    "from sklearn.feature_selection import chi2\n",
    "from sklearn.model_selection import train_test_split\n",
    "\n",
    "from sklearn.linear_model import LogisticRegression\n",
    "from sklearn.tree import DecisionTreeClassifier\n",
    "from sklearn.ensemble import RandomForestClassifier\n",
    "from sklearn.ensemble import GradientBoostingClassifier\n",
    "from sklearn import svm\n",
    "from sklearn.metrics import accuracy_score,precision_score,recall_score,f1_score,roc_auc_score,confusion_matrix,classification_report\n"
   ]
  },
  {
   "cell_type": "code",
   "execution_count": 2,
   "metadata": {
    "id": "igSw4jN7N9CJ"
   },
   "outputs": [],
   "source": [
    "import warnings\n",
    "warnings.filterwarnings(\"ignore\")"
   ]
  },
  {
   "cell_type": "code",
   "execution_count": 3,
   "metadata": {
    "id": "iHeJCoKoNkfM"
   },
   "outputs": [
    {
     "ename": "FileNotFoundError",
     "evalue": "[Errno 2] No such file or directory: '/content/corona_tested_006.csv'",
     "output_type": "error",
     "traceback": [
      "\u001b[1;31m---------------------------------------------------------------------------\u001b[0m",
      "\u001b[1;31mFileNotFoundError\u001b[0m                         Traceback (most recent call last)",
      "Cell \u001b[1;32mIn[3], line 3\u001b[0m\n\u001b[0;32m      1\u001b[0m \u001b[38;5;66;03m#uploading dataset\u001b[39;00m\n\u001b[1;32m----> 3\u001b[0m covid\u001b[38;5;241m=\u001b[39m\u001b[43mpd\u001b[49m\u001b[38;5;241;43m.\u001b[39;49m\u001b[43mread_csv\u001b[49m\u001b[43m(\u001b[49m\u001b[38;5;124;43m\"\u001b[39;49m\u001b[38;5;124;43m/content/corona_tested_006.csv\u001b[39;49m\u001b[38;5;124;43m\"\u001b[39;49m\u001b[43m)\u001b[49m\n",
      "File \u001b[1;32m~\\anaconda3\\lib\\site-packages\\pandas\\util\\_decorators.py:211\u001b[0m, in \u001b[0;36mdeprecate_kwarg.<locals>._deprecate_kwarg.<locals>.wrapper\u001b[1;34m(*args, **kwargs)\u001b[0m\n\u001b[0;32m    209\u001b[0m     \u001b[38;5;28;01melse\u001b[39;00m:\n\u001b[0;32m    210\u001b[0m         kwargs[new_arg_name] \u001b[38;5;241m=\u001b[39m new_arg_value\n\u001b[1;32m--> 211\u001b[0m \u001b[38;5;28;01mreturn\u001b[39;00m func(\u001b[38;5;241m*\u001b[39margs, \u001b[38;5;241m*\u001b[39m\u001b[38;5;241m*\u001b[39mkwargs)\n",
      "File \u001b[1;32m~\\anaconda3\\lib\\site-packages\\pandas\\util\\_decorators.py:331\u001b[0m, in \u001b[0;36mdeprecate_nonkeyword_arguments.<locals>.decorate.<locals>.wrapper\u001b[1;34m(*args, **kwargs)\u001b[0m\n\u001b[0;32m    325\u001b[0m \u001b[38;5;28;01mif\u001b[39;00m \u001b[38;5;28mlen\u001b[39m(args) \u001b[38;5;241m>\u001b[39m num_allow_args:\n\u001b[0;32m    326\u001b[0m     warnings\u001b[38;5;241m.\u001b[39mwarn(\n\u001b[0;32m    327\u001b[0m         msg\u001b[38;5;241m.\u001b[39mformat(arguments\u001b[38;5;241m=\u001b[39m_format_argument_list(allow_args)),\n\u001b[0;32m    328\u001b[0m         \u001b[38;5;167;01mFutureWarning\u001b[39;00m,\n\u001b[0;32m    329\u001b[0m         stacklevel\u001b[38;5;241m=\u001b[39mfind_stack_level(),\n\u001b[0;32m    330\u001b[0m     )\n\u001b[1;32m--> 331\u001b[0m \u001b[38;5;28;01mreturn\u001b[39;00m func(\u001b[38;5;241m*\u001b[39margs, \u001b[38;5;241m*\u001b[39m\u001b[38;5;241m*\u001b[39mkwargs)\n",
      "File \u001b[1;32m~\\anaconda3\\lib\\site-packages\\pandas\\io\\parsers\\readers.py:950\u001b[0m, in \u001b[0;36mread_csv\u001b[1;34m(filepath_or_buffer, sep, delimiter, header, names, index_col, usecols, squeeze, prefix, mangle_dupe_cols, dtype, engine, converters, true_values, false_values, skipinitialspace, skiprows, skipfooter, nrows, na_values, keep_default_na, na_filter, verbose, skip_blank_lines, parse_dates, infer_datetime_format, keep_date_col, date_parser, dayfirst, cache_dates, iterator, chunksize, compression, thousands, decimal, lineterminator, quotechar, quoting, doublequote, escapechar, comment, encoding, encoding_errors, dialect, error_bad_lines, warn_bad_lines, on_bad_lines, delim_whitespace, low_memory, memory_map, float_precision, storage_options)\u001b[0m\n\u001b[0;32m    935\u001b[0m kwds_defaults \u001b[38;5;241m=\u001b[39m _refine_defaults_read(\n\u001b[0;32m    936\u001b[0m     dialect,\n\u001b[0;32m    937\u001b[0m     delimiter,\n\u001b[1;32m   (...)\u001b[0m\n\u001b[0;32m    946\u001b[0m     defaults\u001b[38;5;241m=\u001b[39m{\u001b[38;5;124m\"\u001b[39m\u001b[38;5;124mdelimiter\u001b[39m\u001b[38;5;124m\"\u001b[39m: \u001b[38;5;124m\"\u001b[39m\u001b[38;5;124m,\u001b[39m\u001b[38;5;124m\"\u001b[39m},\n\u001b[0;32m    947\u001b[0m )\n\u001b[0;32m    948\u001b[0m kwds\u001b[38;5;241m.\u001b[39mupdate(kwds_defaults)\n\u001b[1;32m--> 950\u001b[0m \u001b[38;5;28;01mreturn\u001b[39;00m \u001b[43m_read\u001b[49m\u001b[43m(\u001b[49m\u001b[43mfilepath_or_buffer\u001b[49m\u001b[43m,\u001b[49m\u001b[43m \u001b[49m\u001b[43mkwds\u001b[49m\u001b[43m)\u001b[49m\n",
      "File \u001b[1;32m~\\anaconda3\\lib\\site-packages\\pandas\\io\\parsers\\readers.py:605\u001b[0m, in \u001b[0;36m_read\u001b[1;34m(filepath_or_buffer, kwds)\u001b[0m\n\u001b[0;32m    602\u001b[0m _validate_names(kwds\u001b[38;5;241m.\u001b[39mget(\u001b[38;5;124m\"\u001b[39m\u001b[38;5;124mnames\u001b[39m\u001b[38;5;124m\"\u001b[39m, \u001b[38;5;28;01mNone\u001b[39;00m))\n\u001b[0;32m    604\u001b[0m \u001b[38;5;66;03m# Create the parser.\u001b[39;00m\n\u001b[1;32m--> 605\u001b[0m parser \u001b[38;5;241m=\u001b[39m TextFileReader(filepath_or_buffer, \u001b[38;5;241m*\u001b[39m\u001b[38;5;241m*\u001b[39mkwds)\n\u001b[0;32m    607\u001b[0m \u001b[38;5;28;01mif\u001b[39;00m chunksize \u001b[38;5;129;01mor\u001b[39;00m iterator:\n\u001b[0;32m    608\u001b[0m     \u001b[38;5;28;01mreturn\u001b[39;00m parser\n",
      "File \u001b[1;32m~\\anaconda3\\lib\\site-packages\\pandas\\io\\parsers\\readers.py:1442\u001b[0m, in \u001b[0;36mTextFileReader.__init__\u001b[1;34m(self, f, engine, **kwds)\u001b[0m\n\u001b[0;32m   1439\u001b[0m     \u001b[38;5;28mself\u001b[39m\u001b[38;5;241m.\u001b[39moptions[\u001b[38;5;124m\"\u001b[39m\u001b[38;5;124mhas_index_names\u001b[39m\u001b[38;5;124m\"\u001b[39m] \u001b[38;5;241m=\u001b[39m kwds[\u001b[38;5;124m\"\u001b[39m\u001b[38;5;124mhas_index_names\u001b[39m\u001b[38;5;124m\"\u001b[39m]\n\u001b[0;32m   1441\u001b[0m \u001b[38;5;28mself\u001b[39m\u001b[38;5;241m.\u001b[39mhandles: IOHandles \u001b[38;5;241m|\u001b[39m \u001b[38;5;28;01mNone\u001b[39;00m \u001b[38;5;241m=\u001b[39m \u001b[38;5;28;01mNone\u001b[39;00m\n\u001b[1;32m-> 1442\u001b[0m \u001b[38;5;28mself\u001b[39m\u001b[38;5;241m.\u001b[39m_engine \u001b[38;5;241m=\u001b[39m \u001b[38;5;28;43mself\u001b[39;49m\u001b[38;5;241;43m.\u001b[39;49m\u001b[43m_make_engine\u001b[49m\u001b[43m(\u001b[49m\u001b[43mf\u001b[49m\u001b[43m,\u001b[49m\u001b[43m \u001b[49m\u001b[38;5;28;43mself\u001b[39;49m\u001b[38;5;241;43m.\u001b[39;49m\u001b[43mengine\u001b[49m\u001b[43m)\u001b[49m\n",
      "File \u001b[1;32m~\\anaconda3\\lib\\site-packages\\pandas\\io\\parsers\\readers.py:1735\u001b[0m, in \u001b[0;36mTextFileReader._make_engine\u001b[1;34m(self, f, engine)\u001b[0m\n\u001b[0;32m   1733\u001b[0m     \u001b[38;5;28;01mif\u001b[39;00m \u001b[38;5;124m\"\u001b[39m\u001b[38;5;124mb\u001b[39m\u001b[38;5;124m\"\u001b[39m \u001b[38;5;129;01mnot\u001b[39;00m \u001b[38;5;129;01min\u001b[39;00m mode:\n\u001b[0;32m   1734\u001b[0m         mode \u001b[38;5;241m+\u001b[39m\u001b[38;5;241m=\u001b[39m \u001b[38;5;124m\"\u001b[39m\u001b[38;5;124mb\u001b[39m\u001b[38;5;124m\"\u001b[39m\n\u001b[1;32m-> 1735\u001b[0m \u001b[38;5;28mself\u001b[39m\u001b[38;5;241m.\u001b[39mhandles \u001b[38;5;241m=\u001b[39m \u001b[43mget_handle\u001b[49m\u001b[43m(\u001b[49m\n\u001b[0;32m   1736\u001b[0m \u001b[43m    \u001b[49m\u001b[43mf\u001b[49m\u001b[43m,\u001b[49m\n\u001b[0;32m   1737\u001b[0m \u001b[43m    \u001b[49m\u001b[43mmode\u001b[49m\u001b[43m,\u001b[49m\n\u001b[0;32m   1738\u001b[0m \u001b[43m    \u001b[49m\u001b[43mencoding\u001b[49m\u001b[38;5;241;43m=\u001b[39;49m\u001b[38;5;28;43mself\u001b[39;49m\u001b[38;5;241;43m.\u001b[39;49m\u001b[43moptions\u001b[49m\u001b[38;5;241;43m.\u001b[39;49m\u001b[43mget\u001b[49m\u001b[43m(\u001b[49m\u001b[38;5;124;43m\"\u001b[39;49m\u001b[38;5;124;43mencoding\u001b[39;49m\u001b[38;5;124;43m\"\u001b[39;49m\u001b[43m,\u001b[49m\u001b[43m \u001b[49m\u001b[38;5;28;43;01mNone\u001b[39;49;00m\u001b[43m)\u001b[49m\u001b[43m,\u001b[49m\n\u001b[0;32m   1739\u001b[0m \u001b[43m    \u001b[49m\u001b[43mcompression\u001b[49m\u001b[38;5;241;43m=\u001b[39;49m\u001b[38;5;28;43mself\u001b[39;49m\u001b[38;5;241;43m.\u001b[39;49m\u001b[43moptions\u001b[49m\u001b[38;5;241;43m.\u001b[39;49m\u001b[43mget\u001b[49m\u001b[43m(\u001b[49m\u001b[38;5;124;43m\"\u001b[39;49m\u001b[38;5;124;43mcompression\u001b[39;49m\u001b[38;5;124;43m\"\u001b[39;49m\u001b[43m,\u001b[49m\u001b[43m \u001b[49m\u001b[38;5;28;43;01mNone\u001b[39;49;00m\u001b[43m)\u001b[49m\u001b[43m,\u001b[49m\n\u001b[0;32m   1740\u001b[0m \u001b[43m    \u001b[49m\u001b[43mmemory_map\u001b[49m\u001b[38;5;241;43m=\u001b[39;49m\u001b[38;5;28;43mself\u001b[39;49m\u001b[38;5;241;43m.\u001b[39;49m\u001b[43moptions\u001b[49m\u001b[38;5;241;43m.\u001b[39;49m\u001b[43mget\u001b[49m\u001b[43m(\u001b[49m\u001b[38;5;124;43m\"\u001b[39;49m\u001b[38;5;124;43mmemory_map\u001b[39;49m\u001b[38;5;124;43m\"\u001b[39;49m\u001b[43m,\u001b[49m\u001b[43m \u001b[49m\u001b[38;5;28;43;01mFalse\u001b[39;49;00m\u001b[43m)\u001b[49m\u001b[43m,\u001b[49m\n\u001b[0;32m   1741\u001b[0m \u001b[43m    \u001b[49m\u001b[43mis_text\u001b[49m\u001b[38;5;241;43m=\u001b[39;49m\u001b[43mis_text\u001b[49m\u001b[43m,\u001b[49m\n\u001b[0;32m   1742\u001b[0m \u001b[43m    \u001b[49m\u001b[43merrors\u001b[49m\u001b[38;5;241;43m=\u001b[39;49m\u001b[38;5;28;43mself\u001b[39;49m\u001b[38;5;241;43m.\u001b[39;49m\u001b[43moptions\u001b[49m\u001b[38;5;241;43m.\u001b[39;49m\u001b[43mget\u001b[49m\u001b[43m(\u001b[49m\u001b[38;5;124;43m\"\u001b[39;49m\u001b[38;5;124;43mencoding_errors\u001b[39;49m\u001b[38;5;124;43m\"\u001b[39;49m\u001b[43m,\u001b[49m\u001b[43m \u001b[49m\u001b[38;5;124;43m\"\u001b[39;49m\u001b[38;5;124;43mstrict\u001b[39;49m\u001b[38;5;124;43m\"\u001b[39;49m\u001b[43m)\u001b[49m\u001b[43m,\u001b[49m\n\u001b[0;32m   1743\u001b[0m \u001b[43m    \u001b[49m\u001b[43mstorage_options\u001b[49m\u001b[38;5;241;43m=\u001b[39;49m\u001b[38;5;28;43mself\u001b[39;49m\u001b[38;5;241;43m.\u001b[39;49m\u001b[43moptions\u001b[49m\u001b[38;5;241;43m.\u001b[39;49m\u001b[43mget\u001b[49m\u001b[43m(\u001b[49m\u001b[38;5;124;43m\"\u001b[39;49m\u001b[38;5;124;43mstorage_options\u001b[39;49m\u001b[38;5;124;43m\"\u001b[39;49m\u001b[43m,\u001b[49m\u001b[43m \u001b[49m\u001b[38;5;28;43;01mNone\u001b[39;49;00m\u001b[43m)\u001b[49m\u001b[43m,\u001b[49m\n\u001b[0;32m   1744\u001b[0m \u001b[43m\u001b[49m\u001b[43m)\u001b[49m\n\u001b[0;32m   1745\u001b[0m \u001b[38;5;28;01massert\u001b[39;00m \u001b[38;5;28mself\u001b[39m\u001b[38;5;241m.\u001b[39mhandles \u001b[38;5;129;01mis\u001b[39;00m \u001b[38;5;129;01mnot\u001b[39;00m \u001b[38;5;28;01mNone\u001b[39;00m\n\u001b[0;32m   1746\u001b[0m f \u001b[38;5;241m=\u001b[39m \u001b[38;5;28mself\u001b[39m\u001b[38;5;241m.\u001b[39mhandles\u001b[38;5;241m.\u001b[39mhandle\n",
      "File \u001b[1;32m~\\anaconda3\\lib\\site-packages\\pandas\\io\\common.py:856\u001b[0m, in \u001b[0;36mget_handle\u001b[1;34m(path_or_buf, mode, encoding, compression, memory_map, is_text, errors, storage_options)\u001b[0m\n\u001b[0;32m    851\u001b[0m \u001b[38;5;28;01melif\u001b[39;00m \u001b[38;5;28misinstance\u001b[39m(handle, \u001b[38;5;28mstr\u001b[39m):\n\u001b[0;32m    852\u001b[0m     \u001b[38;5;66;03m# Check whether the filename is to be opened in binary mode.\u001b[39;00m\n\u001b[0;32m    853\u001b[0m     \u001b[38;5;66;03m# Binary mode does not support 'encoding' and 'newline'.\u001b[39;00m\n\u001b[0;32m    854\u001b[0m     \u001b[38;5;28;01mif\u001b[39;00m ioargs\u001b[38;5;241m.\u001b[39mencoding \u001b[38;5;129;01mand\u001b[39;00m \u001b[38;5;124m\"\u001b[39m\u001b[38;5;124mb\u001b[39m\u001b[38;5;124m\"\u001b[39m \u001b[38;5;129;01mnot\u001b[39;00m \u001b[38;5;129;01min\u001b[39;00m ioargs\u001b[38;5;241m.\u001b[39mmode:\n\u001b[0;32m    855\u001b[0m         \u001b[38;5;66;03m# Encoding\u001b[39;00m\n\u001b[1;32m--> 856\u001b[0m         handle \u001b[38;5;241m=\u001b[39m \u001b[38;5;28;43mopen\u001b[39;49m\u001b[43m(\u001b[49m\n\u001b[0;32m    857\u001b[0m \u001b[43m            \u001b[49m\u001b[43mhandle\u001b[49m\u001b[43m,\u001b[49m\n\u001b[0;32m    858\u001b[0m \u001b[43m            \u001b[49m\u001b[43mioargs\u001b[49m\u001b[38;5;241;43m.\u001b[39;49m\u001b[43mmode\u001b[49m\u001b[43m,\u001b[49m\n\u001b[0;32m    859\u001b[0m \u001b[43m            \u001b[49m\u001b[43mencoding\u001b[49m\u001b[38;5;241;43m=\u001b[39;49m\u001b[43mioargs\u001b[49m\u001b[38;5;241;43m.\u001b[39;49m\u001b[43mencoding\u001b[49m\u001b[43m,\u001b[49m\n\u001b[0;32m    860\u001b[0m \u001b[43m            \u001b[49m\u001b[43merrors\u001b[49m\u001b[38;5;241;43m=\u001b[39;49m\u001b[43merrors\u001b[49m\u001b[43m,\u001b[49m\n\u001b[0;32m    861\u001b[0m \u001b[43m            \u001b[49m\u001b[43mnewline\u001b[49m\u001b[38;5;241;43m=\u001b[39;49m\u001b[38;5;124;43m\"\u001b[39;49m\u001b[38;5;124;43m\"\u001b[39;49m\u001b[43m,\u001b[49m\n\u001b[0;32m    862\u001b[0m \u001b[43m        \u001b[49m\u001b[43m)\u001b[49m\n\u001b[0;32m    863\u001b[0m     \u001b[38;5;28;01melse\u001b[39;00m:\n\u001b[0;32m    864\u001b[0m         \u001b[38;5;66;03m# Binary mode\u001b[39;00m\n\u001b[0;32m    865\u001b[0m         handle \u001b[38;5;241m=\u001b[39m \u001b[38;5;28mopen\u001b[39m(handle, ioargs\u001b[38;5;241m.\u001b[39mmode)\n",
      "\u001b[1;31mFileNotFoundError\u001b[0m: [Errno 2] No such file or directory: '/content/corona_tested_006.csv'"
     ]
    }
   ],
   "source": [
    "#uploading dataset\n",
    "\n",
    "covid=pd.read_csv(\"/content/corona_tested_006.csv\")\n"
   ]
  },
  {
   "cell_type": "code",
   "execution_count": null,
   "metadata": {
    "id": "MyN6o7BVNkhR"
   },
   "outputs": [],
   "source": [
    "#creating a copy\n",
    "covid_data=covid.copy(deep=True)"
   ]
  },
  {
   "cell_type": "code",
   "execution_count": null,
   "metadata": {
    "colab": {
     "base_uri": "https://localhost:8080/"
    },
    "id": "pHl_SE7TNkkX",
    "outputId": "aaeb4ff1-e5c9-4535-a981-cbd604785202"
   },
   "outputs": [],
   "source": [
    "covid_data.shape"
   ]
  },
  {
   "cell_type": "code",
   "execution_count": null,
   "metadata": {
    "colab": {
     "base_uri": "https://localhost:8080/",
     "height": 661
    },
    "id": "eUF-gMJm1ACl",
    "outputId": "b68a7ae7-585b-4de2-e087-34edfaf7c8fd"
   },
   "outputs": [],
   "source": [
    "covid_data.drop_duplicates()"
   ]
  },
  {
   "cell_type": "code",
   "execution_count": null,
   "metadata": {
    "colab": {
     "base_uri": "https://localhost:8080/"
    },
    "id": "ssG5__IkoLSe",
    "outputId": "ba8a95fa-6304-490e-b096-7c6dfab5e97b"
   },
   "outputs": [],
   "source": [
    "covid_data.shape"
   ]
  },
  {
   "cell_type": "markdown",
   "metadata": {
    "id": "rQN4fjwZoXA7"
   },
   "source": [
    "There was not any duplicate data"
   ]
  },
  {
   "cell_type": "code",
   "execution_count": null,
   "metadata": {
    "colab": {
     "base_uri": "https://localhost:8080/",
     "height": 357
    },
    "id": "v7XsIcZlNkmr",
    "outputId": "31bffca0-cbad-4207-810e-a2f441c7663b"
   },
   "outputs": [],
   "source": [
    "covid_data.head()"
   ]
  },
  {
   "cell_type": "code",
   "execution_count": null,
   "metadata": {
    "colab": {
     "base_uri": "https://localhost:8080/",
     "height": 357
    },
    "id": "LxMDyMDkNkpB",
    "outputId": "6db6840f-b949-488b-e1d8-1a501c10de92"
   },
   "outputs": [],
   "source": [
    "covid_data.tail()"
   ]
  },
  {
   "cell_type": "code",
   "execution_count": null,
   "metadata": {
    "colab": {
     "base_uri": "https://localhost:8080/"
    },
    "id": "b9zws8iwPEmM",
    "outputId": "83325ef5-7afd-4a7e-8421-5ef8993b6fd4"
   },
   "outputs": [],
   "source": [
    "#checking number of null values\n",
    "covid_data.isnull().sum()"
   ]
  },
  {
   "cell_type": "markdown",
   "metadata": {
    "id": "o32jz2OBPgwB"
   },
   "source": [
    "There are not any null values.Exploring to check for any unusual data"
   ]
  },
  {
   "cell_type": "code",
   "execution_count": null,
   "metadata": {
    "colab": {
     "base_uri": "https://localhost:8080/"
    },
    "id": "TRmGt90OPEt0",
    "outputId": "c412dd62-8f43-4d68-99b3-a82031b8fab4"
   },
   "outputs": [],
   "source": [
    "covid_data.info()"
   ]
  },
  {
   "cell_type": "code",
   "execution_count": null,
   "metadata": {
    "id": "omrXObFGPE1O"
   },
   "outputs": [],
   "source": [
    "#converting to categorical variable\n",
    "covid_data=covid_data.astype('category')"
   ]
  },
  {
   "cell_type": "code",
   "execution_count": null,
   "metadata": {
    "colab": {
     "base_uri": "https://localhost:8080/"
    },
    "id": "IPNannJOPE7j",
    "outputId": "5675437b-f659-469a-bb15-f5c1d1db06b8"
   },
   "outputs": [],
   "source": [
    "covid_data.info()"
   ]
  },
  {
   "cell_type": "code",
   "execution_count": null,
   "metadata": {
    "colab": {
     "base_uri": "https://localhost:8080/"
    },
    "id": "c2iLVI-pPE_N",
    "outputId": "433f33fb-2fd3-438a-9d48-4bdd3a8d0a2f"
   },
   "outputs": [],
   "source": [
    "print(covid_data.Cough_symptoms.value_counts())\n",
    "print(covid_data.Fever.value_counts())\n",
    "print(covid_data.Sore_throat.value_counts())\n",
    "print(covid_data.Shortness_of_breath.value_counts())\n",
    "print(covid_data.Headache.value_counts())\n",
    "print(covid_data.Corona.value_counts())\n",
    "print(covid_data.Age_60_above.value_counts())\n",
    "print(covid_data.Sex.value_counts())\n"
   ]
  },
  {
   "cell_type": "markdown",
   "metadata": {
    "id": "4PgwRnFSS5ri"
   },
   "source": [
    "most of the column has 'True' and 'TRUE' which needs to considered as same."
   ]
  },
  {
   "cell_type": "code",
   "execution_count": null,
   "metadata": {
    "id": "XDqTyPRGPFRK"
   },
   "outputs": [],
   "source": [
    "#defining a function for the same\n",
    "def convert(x):\n",
    "  if x==True:\n",
    "    return 'true'\n",
    "  elif x==False:\n",
    "    return 'false'\n",
    "  elif x=='TRUE':\n",
    "    return x.lower()\n",
    "  elif x=='FALSE':\n",
    "    return x.lower()\n",
    "  else:\n",
    "    return x\n",
    "  \n",
    "\n"
   ]
  },
  {
   "cell_type": "code",
   "execution_count": null,
   "metadata": {
    "id": "ngW1DyetPFUw"
   },
   "outputs": [],
   "source": [
    "#applying the defined function\n",
    "covid_data['Cough_symptoms']=covid_data['Cough_symptoms'].map(convert)\n",
    "covid_data['Fever']=covid_data['Fever'].map(convert)\n",
    "covid_data['Sore_throat']=covid_data['Sore_throat'].map(convert)\n",
    "covid_data['Shortness_of_breath']=covid_data['Shortness_of_breath'].map(convert)\n",
    "covid_data['Headache']=covid_data['Headache'].map(convert)"
   ]
  },
  {
   "cell_type": "code",
   "execution_count": null,
   "metadata": {
    "colab": {
     "base_uri": "https://localhost:8080/",
     "height": 661
    },
    "id": "bJh2NOviPFZH",
    "outputId": "fc719e73-b0e8-4303-b264-0bbfe5cf83d1"
   },
   "outputs": [],
   "source": [
    "covid_data"
   ]
  },
  {
   "cell_type": "code",
   "execution_count": null,
   "metadata": {
    "colab": {
     "base_uri": "https://localhost:8080/",
     "height": 661
    },
    "id": "Kl6o6yYwPFmU",
    "outputId": "69b396bd-c5e2-4a7e-b8b7-d81b64d3a3ec"
   },
   "outputs": [],
   "source": [
    "#replacing 'None' and 'Other' with nan\n",
    "covid_data=covid_data.replace('None',np.nan)\n",
    "covid_data=covid_data.replace('Other',np.nan)\n",
    "covid_data=covid_data.replace('other',np.nan)\n",
    "covid_data"
   ]
  },
  {
   "cell_type": "code",
   "execution_count": null,
   "metadata": {
    "colab": {
     "base_uri": "https://localhost:8080/"
    },
    "id": "LFkcS4IcNkrn",
    "outputId": "10174200-7ef5-4517-d64d-35ea726afd57"
   },
   "outputs": [],
   "source": [
    "covid_data.isnull().sum()"
   ]
  },
  {
   "cell_type": "code",
   "execution_count": null,
   "metadata": {
    "colab": {
     "base_uri": "https://localhost:8080/"
    },
    "id": "wj0yYspGNkt7",
    "outputId": "38b46809-2e4f-4edb-a270-8e99cf10c46f"
   },
   "outputs": [],
   "source": [
    "#percentage of missing values\n",
    "covid_data.isnull().mean() * 100"
   ]
  },
  {
   "cell_type": "markdown",
   "metadata": {
    "id": "CiXqSMXKXuPF"
   },
   "source": [
    "Since ##Age_60_above## and ##Known_contact## have very large number of missing values so we need to drop these columns"
   ]
  },
  {
   "cell_type": "code",
   "execution_count": null,
   "metadata": {
    "id": "3jtm2KUXYGsw"
   },
   "outputs": [],
   "source": [
    "covid_data=covid_data.drop(['Age_60_above','Ind_ID','Known_contact'],axis=1)\n"
   ]
  },
  {
   "cell_type": "code",
   "execution_count": null,
   "metadata": {
    "colab": {
     "base_uri": "https://localhost:8080/"
    },
    "id": "VOKGcReuZ-fb",
    "outputId": "122b0478-e88d-44ed-92ed-c76b728e5646"
   },
   "outputs": [],
   "source": [
    "covid_data.isnull().sum()"
   ]
  },
  {
   "cell_type": "code",
   "execution_count": null,
   "metadata": {
    "id": "PQ7dRRpQaA7x"
   },
   "outputs": [],
   "source": [
    "#removing rows with less than 1% missing values\n",
    "covid_data=covid_data.dropna(subset=['Cough_symptoms','Fever','Sore_throat','Shortness_of_breath','Headache','Corona'])"
   ]
  },
  {
   "cell_type": "code",
   "execution_count": null,
   "metadata": {
    "colab": {
     "base_uri": "https://localhost:8080/"
    },
    "id": "Hq5pj9yoaA99",
    "outputId": "cb798cd2-f3a0-4479-8387-489cb5fd9f17"
   },
   "outputs": [],
   "source": [
    "covid_data.isnull().sum()"
   ]
  },
  {
   "cell_type": "code",
   "execution_count": null,
   "metadata": {
    "id": "8LnHxjGgaBBI"
   },
   "outputs": [],
   "source": [
    "#imputing missing values\n",
    "covid_data.fillna(method='bfill',inplace=True)"
   ]
  },
  {
   "cell_type": "code",
   "execution_count": null,
   "metadata": {
    "colab": {
     "base_uri": "https://localhost:8080/"
    },
    "id": "stGHlaGkaBDP",
    "outputId": "984a9161-f772-4903-bdb0-70961d6cb2a2"
   },
   "outputs": [],
   "source": [
    "covid_data.isnull().sum()"
   ]
  },
  {
   "cell_type": "markdown",
   "metadata": {
    "id": "0Mt8lmiOcvyN"
   },
   "source": [
    "Exploratory Data Analysis"
   ]
  },
  {
   "cell_type": "code",
   "execution_count": null,
   "metadata": {
    "colab": {
     "base_uri": "https://localhost:8080/",
     "height": 450
    },
    "id": "r5sxJZRcaBFm",
    "outputId": "cdc9e888-97c7-4125-a7bb-ced8320ad216"
   },
   "outputs": [],
   "source": [
    "sns.countplot(x='Test_date',hue='Corona',data=covid_data)\n",
    "plt.show()"
   ]
  },
  {
   "cell_type": "markdown",
   "metadata": {
    "id": "WDKfekwEdr34"
   },
   "source": [
    "As number of testing increased, the infection rate reduced."
   ]
  },
  {
   "cell_type": "code",
   "execution_count": 29,
   "metadata": {
    "colab": {
     "base_uri": "https://localhost:8080/",
     "height": 450
    },
    "id": "aEdGTiCodPwT",
    "outputId": "3204afd4-4eae-4f32-f971-c21f6597aab4"
   },
   "outputs": [
    {
     "data": {
      "image/png": "[encoded data removed]",
      "text/plain": [
       "<Figure size 640x480 with 1 Axes>"
      ]
     },
     "metadata": {},
     "output_type": "display_data"
    }
   ],
   "source": [
    "sns.countplot(x='Cough_symptoms',hue='Corona',data=covid_data)\n",
    "plt.show()"
   ]
  },
  {
   "cell_type": "markdown",
   "metadata": {
    "id": "Hry4DnEHeRi2"
   },
   "source": [
    "People having cough symptoms are less likely to be covid negative"
   ]
  },
  {
   "cell_type": "code",
   "execution_count": 30,
   "metadata": {
    "colab": {
     "base_uri": "https://localhost:8080/",
     "height": 449
    },
    "id": "oAp1ajfjeS28",
    "outputId": "064c5ae5-536e-4b94-e8af-6a911d03d0b9"
   },
   "outputs": [
    {
     "data": {
      "image/png": "[encoded data removed]",
      "text/plain": [
       "<Figure size 640x480 with 1 Axes>"
      ]
     },
     "metadata": {},
     "output_type": "display_data"
    }
   ],
   "source": [
    "sns.countplot(x='Fever',hue='Corona',data=covid_data)\n",
    "plt.show()"
   ]
  },
  {
   "cell_type": "markdown",
   "metadata": {
    "id": "LsNSEI2UfCIF"
   },
   "source": [
    "People having fever symptoms are very less likely to be covid negative"
   ]
  },
  {
   "cell_type": "code",
   "execution_count": 31,
   "metadata": {
    "colab": {
     "base_uri": "https://localhost:8080/",
     "height": 450
    },
    "id": "kIc90QXKeS_I",
    "outputId": "fbc2fe41-0501-4e1f-ae9f-a2a81deb73b3"
   },
   "outputs": [
    {
     "data": {
      "image/png": "[encoded data removed]",
      "text/plain": [
       "<Figure size 640x480 with 1 Axes>"
      ]
     },
     "metadata": {},
     "output_type": "display_data"
    }
   ],
   "source": [
    "sns.countplot(x='Sore_throat', hue='Corona', data=covid_data)\n",
    "plt.show()"
   ]
  },
  {
   "cell_type": "markdown",
   "metadata": {
    "id": "ULBPduOFfR-t"
   },
   "source": [
    "Very few patients have sore throat and they are highly prone to covid positive."
   ]
  },
  {
   "cell_type": "code",
   "execution_count": 32,
   "metadata": {
    "colab": {
     "base_uri": "https://localhost:8080/",
     "height": 450
    },
    "id": "KymWNRESeGwM",
    "outputId": "1db593e5-d520-4beb-9f0e-ad32d9b957a6"
   },
   "outputs": [
    {
     "data": {
      "image/png": "[encoded data removed]",
      "text/plain": [
       "<Figure size 640x480 with 1 Axes>"
      ]
     },
     "metadata": {},
     "output_type": "display_data"
    }
   ],
   "source": [
    "sns.countplot(x='Shortness_of_breath', hue='Corona', data=covid_data)\n",
    "plt.show()"
   ]
  },
  {
   "cell_type": "markdown",
   "metadata": {
    "id": "17KMIKFSfcnr"
   },
   "source": [
    "Similar to sore throat, Shortness of breath is also a symptom to identify the covid patients easily."
   ]
  },
  {
   "cell_type": "code",
   "execution_count": 33,
   "metadata": {
    "colab": {
     "base_uri": "https://localhost:8080/",
     "height": 449
    },
    "id": "hKg_0kzweGzZ",
    "outputId": "3521d328-698c-4461-8e3c-5a5985368180"
   },
   "outputs": [
    {
     "data": {
      "image/png": "[encoded data removed]",
      "text/plain": [
       "<Figure size 640x480 with 1 Axes>"
      ]
     },
     "metadata": {},
     "output_type": "display_data"
    }
   ],
   "source": [
    "sns.countplot(x='Headache', hue='Corona', data=covid_data)\n",
    "plt.show()"
   ]
  },
  {
   "cell_type": "markdown",
   "metadata": {
    "id": "nzO_cfdPfpht"
   },
   "source": [
    "Just a few patients have this symtom but they are highly prone to be postive"
   ]
  },
  {
   "cell_type": "code",
   "execution_count": 34,
   "metadata": {
    "colab": {
     "base_uri": "https://localhost:8080/",
     "height": 450
    },
    "id": "w5WbpBQWdQAG",
    "outputId": "31e66a72-396e-4827-8cbc-f8d9e5bf622b"
   },
   "outputs": [
    {
     "data": {
      "image/png": "[encoded data removed]",
      "text/plain": [
       "<Figure size 640x480 with 1 Axes>"
      ]
     },
     "metadata": {},
     "output_type": "display_data"
    }
   ],
   "source": [
    "sns.countplot(x='Sex', hue='Corona', data=covid_data)\n",
    "plt.show()"
   ]
  },
  {
   "cell_type": "markdown",
   "metadata": {
    "id": "CIr2WlBOf-hm"
   },
   "source": [
    "Gender does not have considerable affect on being covid positive or negative."
   ]
  },
  {
   "cell_type": "code",
   "execution_count": 35,
   "metadata": {
    "id": "9wczuYwOfu38"
   },
   "outputs": [],
   "source": [
    "#encoding the categorical data\n",
    "covid_data.drop('Test_date',axis=1,inplace=True)\n",
    "encoded=pd.get_dummies(covid_data,drop_first=True)"
   ]
  },
  {
   "cell_type": "code",
   "execution_count": 36,
   "metadata": {
    "id": "Hj_OJLqgfu6l"
   },
   "outputs": [],
   "source": [
    "encoded=encoded.astype('category')"
   ]
  },
  {
   "cell_type": "markdown",
   "metadata": {
    "id": "wQhn56FnliyO"
   },
   "source": [
    "Important Features selection"
   ]
  },
  {
   "cell_type": "code",
   "execution_count": 37,
   "metadata": {
    "id": "UVKnNt--fu9K"
   },
   "outputs": [],
   "source": [
    "#seperating features and target variable\n",
    "X=encoded.drop('Corona_positive',axis=1)\n",
    "y=encoded['Corona_positive']"
   ]
  },
  {
   "cell_type": "code",
   "execution_count": 38,
   "metadata": {
    "id": "_P5N2DRVfu_b"
   },
   "outputs": [],
   "source": [
    "#selecting top 5 methods using chi2\n",
    "selector=SelectKBest(score_func=chi2,k=5)\n",
    "X_new=selector.fit_transform(X,y)"
   ]
  },
  {
   "cell_type": "code",
   "execution_count": 39,
   "metadata": {
    "colab": {
     "base_uri": "https://localhost:8080/"
    },
    "id": "LTR6pu2zfvB3",
    "outputId": "01f7abc0-608c-4744-bf71-0032fa04c356"
   },
   "outputs": [
    {
     "data": {
      "text/plain": [
       "Index(['Cough_symptoms_true', 'Fever_true', 'Sore_throat_true',\n",
       "       'Shortness_of_breath_true', 'Headache_true'],\n",
       "      dtype='object')"
      ]
     },
     "execution_count": 39,
     "metadata": {},
     "output_type": "execute_result"
    }
   ],
   "source": [
    "#masking the boolean array indicating the status of each feature\n",
    "mask=selector.get_support()\n",
    "\n",
    "#convert the boolean array to a list of indices\n",
    "selected_feature_indices=mask.nonzero()[0]\n",
    "\n",
    "#use the indices to get the names of the selected features\n",
    "selected_features_names=X.columns[selected_feature_indices]\n",
    "selected_features_names\n"
   ]
  },
  {
   "cell_type": "code",
   "execution_count": 40,
   "metadata": {
    "id": "ms1QpiAyfvD_"
   },
   "outputs": [],
   "source": [
    "#removing less important features\n",
    "feature_data=encoded.drop('Sex_male',axis=True)"
   ]
  },
  {
   "cell_type": "code",
   "execution_count": 41,
   "metadata": {
    "id": "5GqaHLtAfvGV"
   },
   "outputs": [],
   "source": [
    "#seperating features and target variable for test train split\n",
    "features=feature_data.drop('Corona_positive',axis=True)\n",
    "target=feature_data['Corona_positive']"
   ]
  },
  {
   "cell_type": "markdown",
   "metadata": {
    "id": "BMwZrZOTo3v_"
   },
   "source": [
    "Model Creation"
   ]
  },
  {
   "cell_type": "code",
   "execution_count": 42,
   "metadata": {
    "colab": {
     "base_uri": "https://localhost:8080/"
    },
    "id": "9bzFwA6xo09k",
    "outputId": "3328e3c3-4864-4476-ec77-c25c53119e97"
   },
   "outputs": [
    {
     "name": "stdout",
     "output_type": "stream",
     "text": [
      "accuracy score for training logistic regression is 0.956714201120247\n"
     ]
    }
   ],
   "source": [
    "#splitting the dataset\n",
    "x_train,x_test,y_train,y_test=train_test_split(features,target,train_size=0.75,random_state=42)\n",
    "logistic_regression=LogisticRegression(solver='lbfgs',multi_class='auto',random_state=42)\n",
    "logistic_regression.fit(x_train,y_train)\n",
    "\n",
    "y_train_lr=logistic_regression.predict(x_train)\n",
    "y_pred_lr=logistic_regression.predict(x_test)\n",
    "\n",
    "acc_train_lr=accuracy_score(y_train,y_train_lr)\n",
    "print(\"accuracy score for training logistic regression is\",acc_train_lr)"
   ]
  },
  {
   "cell_type": "code",
   "execution_count": 43,
   "metadata": {
    "colab": {
     "base_uri": "https://localhost:8080/"
    },
    "id": "Z1zqEfDIo1AJ",
    "outputId": "924d29ac-79ae-4483-ffc7-8470b4e0c14d"
   },
   "outputs": [
    {
     "name": "stdout",
     "output_type": "stream",
     "text": [
      "confusion matrix: \n",
      " [[64894   159]\n",
      " [ 2770   853]]\n"
     ]
    }
   ],
   "source": [
    "acc_logistic=accuracy_score(y_test,y_pred_lr)\n",
    "prec_logistic=precision_score(y_test,y_pred_lr)\n",
    "recall_logistic=recall_score(y_test,y_pred_lr)\n",
    "f1_logistic=f1_score(y_test,y_pred_lr)\n",
    "conf_matrix_lr=confusion_matrix(y_test,y_pred_lr)\n",
    "\n",
    "print(\"confusion matrix: \\n\",conf_matrix_lr)"
   ]
  },
  {
   "cell_type": "code",
   "execution_count": 44,
   "metadata": {
    "colab": {
     "base_uri": "https://localhost:8080/"
    },
    "id": "eGyudiYro1Cv",
    "outputId": "33f81f4c-7d08-4a31-afee-87c87270727b"
   },
   "outputs": [
    {
     "name": "stdout",
     "output_type": "stream",
     "text": [
      "0.957350457219407\n",
      "0.8428853754940712\n",
      "0.2354402428926304\n",
      "0.3680690399137001\n"
     ]
    }
   ],
   "source": [
    "print(acc_logistic)\n",
    "print(prec_logistic)\n",
    "print(recall_logistic)\n",
    "print(f1_logistic)"
   ]
  },
  {
   "cell_type": "code",
   "execution_count": 45,
   "metadata": {
    "colab": {
     "base_uri": "https://localhost:8080/"
    },
    "id": "Mm0fpoy2fvKT",
    "outputId": "a2d202a8-cd2b-4395-c68d-5e841ff999e8"
   },
   "outputs": [
    {
     "name": "stdout",
     "output_type": "stream",
     "text": [
      "              precision    recall  f1-score   support\n",
      "\n",
      "           0       0.96      1.00      0.98     65053\n",
      "           1       0.84      0.24      0.37      3623\n",
      "\n",
      "    accuracy                           0.96     68676\n",
      "   macro avg       0.90      0.62      0.67     68676\n",
      "weighted avg       0.95      0.96      0.95     68676\n",
      "\n"
     ]
    }
   ],
   "source": [
    "class_report_lg=classification_report(y_test,y_pred_lr)\n",
    "print(class_report_lg)"
   ]
  },
  {
   "cell_type": "code",
   "execution_count": 46,
   "metadata": {
    "colab": {
     "base_uri": "https://localhost:8080/"
    },
    "id": "H5pk_hS7sKLW",
    "outputId": "c08dfb49-8ba6-40bd-b3cd-d8bc746da687"
   },
   "outputs": [
    {
     "name": "stdout",
     "output_type": "stream",
     "text": [
      "[0.9579367  0.96268725 0.96041136 0.95418639 0.94657809]\n",
      "mean accuracy score: 0.956359954044623\n"
     ]
    }
   ],
   "source": [
    "#cross validation\n",
    "from sklearn.model_selection import cross_val_score\n",
    "cv_scores=cross_val_score(logistic_regression,features,target,cv=5)\n",
    "print(cv_scores)\n",
    "\n",
    "mean_cv_score=cv_scores.mean()\n",
    "\n",
    "print(\"mean accuracy score: {}\".format(mean_cv_score))"
   ]
  },
  {
   "cell_type": "markdown",
   "metadata": {
    "id": "dJyBDfDEtbnn"
   },
   "source": [
    "2.Decision Tree"
   ]
  },
  {
   "cell_type": "code",
   "execution_count": 47,
   "metadata": {
    "colab": {
     "base_uri": "https://localhost:8080/"
    },
    "id": "wNrrfRJxsKNh",
    "outputId": "aa1448ae-6ca6-4515-d64f-6bfd0ddf44c7"
   },
   "outputs": [
    {
     "name": "stdout",
     "output_type": "stream",
     "text": [
      "confusion matrix: \n",
      " [[64692   216]\n",
      " [ 2777   991]]\n"
     ]
    }
   ],
   "source": [
    "from sklearn.metrics import confusion_matrix, accuracy_score, precision_score, recall_score, f1_score\n",
    "x_train,x_test,y_train,y_test=train_test_split(features,target,train_size=0.75,random_state=72)\n",
    "\n",
    "\n",
    "decision_tree=DecisionTreeClassifier()\n",
    "decision_tree.fit(x_train,y_train)\n",
    "\n",
    "y_pred_dt_train=decision_tree.predict(x_train)\n",
    "y_pred_dt_test=decision_tree.predict(x_test)\n",
    "\n",
    "conf_mat_dt=confusion_matrix(y_test,y_pred_dt_test)\n",
    "\n",
    "print(\"confusion matrix: \\n\",conf_mat_dt)\n",
    "\n",
    "accuracy_dt=accuracy_score(y_test,y_pred_dt_test)\n",
    "f1_dt=f1_score(y_test,y_pred_dt_test)\n",
    "precision_dt=precision_score(y_test,y_pred_dt_test)\n",
    "recall_dt=recall_score(y_test,y_pred_dt_test)\n"
   ]
  },
  {
   "cell_type": "code",
   "execution_count": 48,
   "metadata": {
    "colab": {
     "base_uri": "https://localhost:8080/"
    },
    "id": "DpPveq4csKPt",
    "outputId": "fc958fe0-dd96-4cd0-a9d4-b4d7a3ee15be"
   },
   "outputs": [
    {
     "name": "stdout",
     "output_type": "stream",
     "text": [
      "0.9564185450521289\n",
      "0.39839195979899494\n",
      "0.8210439105219552\n",
      "0.2630042462845011\n"
     ]
    }
   ],
   "source": [
    "print(accuracy_dt)\n",
    "print(f1_dt)\n",
    "print(precision_dt)\n",
    "print(recall_dt)"
   ]
  },
  {
   "cell_type": "code",
   "execution_count": 49,
   "metadata": {
    "colab": {
     "base_uri": "https://localhost:8080/"
    },
    "id": "iuk1WfmTsKSS",
    "outputId": "f729f879-fcd1-48ab-a09b-5a8f4bf025ef"
   },
   "outputs": [
    {
     "data": {
      "text/plain": [
       "0.957830565074311"
      ]
     },
     "execution_count": 49,
     "metadata": {},
     "output_type": "execute_result"
    }
   ],
   "source": [
    "acc_train_dt=accuracy_score(y_train,y_pred_dt_train)\n",
    "acc_train_dt"
   ]
  },
  {
   "cell_type": "code",
   "execution_count": 50,
   "metadata": {
    "colab": {
     "base_uri": "https://localhost:8080/"
    },
    "id": "AvigmHjtwvGU",
    "outputId": "cef13b2a-cfa3-4b6a-c8f2-2382d21fa979"
   },
   "outputs": [
    {
     "name": "stdout",
     "output_type": "stream",
     "text": [
      "              precision    recall  f1-score   support\n",
      "\n",
      "           0       0.96      1.00      0.98     64908\n",
      "           1       0.82      0.26      0.40      3768\n",
      "\n",
      "    accuracy                           0.96     68676\n",
      "   macro avg       0.89      0.63      0.69     68676\n",
      "weighted avg       0.95      0.96      0.95     68676\n",
      "\n"
     ]
    }
   ],
   "source": [
    "class_report_dt=classification_report(y_test,y_pred_dt_test)\n",
    "print(class_report_dt)"
   ]
  },
  {
   "cell_type": "code",
   "execution_count": 51,
   "metadata": {
    "colab": {
     "base_uri": "https://localhost:8080/"
    },
    "id": "Cg36Gn7RwvIj",
    "outputId": "c310585b-e6e9-4eaf-c5ff-b2bc63de66c1"
   },
   "outputs": [
    {
     "name": "stdout",
     "output_type": "stream",
     "text": [
      "[0.93269266 0.94179316 0.94277394 0.94863487 0.94710593 0.95558791\n",
      " 0.97120495 0.97524572 0.97692028 0.98183473]\n",
      "mean accuracy score: 0.9573794157778617\n"
     ]
    }
   ],
   "source": [
    "from sklearn. model_selection import cross_val_score \n",
    "from sklearn.model_selection import KFold\n",
    "kfold=KFold(n_splits=10)\n",
    "cv_scores=cross_val_score(decision_tree,features,target,cv=kfold)\n",
    "\n",
    "print(cv_scores)\n",
    "\n",
    "mean_cv_score=cv_scores.mean()\n",
    "\n",
    "print(\"mean accuracy score: {}\".format(mean_cv_score))"
   ]
  },
  {
   "cell_type": "markdown",
   "metadata": {
    "id": "bmJr2__20955"
   },
   "source": [
    "3.Random Forest Classifier"
   ]
  },
  {
   "cell_type": "code",
   "execution_count": 52,
   "metadata": {
    "id": "zhGMKG1WwvKw"
   },
   "outputs": [],
   "source": [
    "x_train,x_test,y_train,y_test=train_test_split(features,target,test_size=0.25,random_state=100)\n"
   ]
  },
  {
   "cell_type": "code",
   "execution_count": 53,
   "metadata": {
    "id": "n0zh4PpxwvNc"
   },
   "outputs": [],
   "source": [
    "rfc=RandomForestClassifier()\n",
    "rfc.fit(x_train, y_train)\n",
    "y_train_rf=rfc.predict(x_train)\n",
    "y_pred_rf=rfc.predict(x_test)"
   ]
  },
  {
   "cell_type": "code",
   "execution_count": 54,
   "metadata": {
    "colab": {
     "base_uri": "https://localhost:8080/"
    },
    "id": "bKjiPaBu1_Wf",
    "outputId": "dc829557-901f-462b-9d83-2fa43ffa09a9"
   },
   "outputs": [
    {
     "data": {
      "text/plain": [
       "0.9577286361915487"
      ]
     },
     "execution_count": 54,
     "metadata": {},
     "output_type": "execute_result"
    }
   ],
   "source": [
    "acc_train_rf=accuracy_score(y_train,y_train_rf)\n",
    "acc_train_rf"
   ]
  },
  {
   "cell_type": "code",
   "execution_count": 55,
   "metadata": {
    "colab": {
     "base_uri": "https://localhost:8080/"
    },
    "id": "A9D9XOAx1_gF",
    "outputId": "6364d4f0-f45c-4a55-cbe1-308d661bb90a"
   },
   "outputs": [
    {
     "name": "stdout",
     "output_type": "stream",
     "text": [
      "confusion matrix: \n",
      "  [[194501    545]\n",
      " [  8164   2816]]\n"
     ]
    }
   ],
   "source": [
    "conf_matrix_rf=confusion_matrix(y_train,y_train_rf)\n",
    "print(\"confusion matrix: \\n \",conf_matrix_rf)"
   ]
  },
  {
   "cell_type": "code",
   "execution_count": 57,
   "metadata": {
    "colab": {
     "base_uri": "https://localhost:8080/"
    },
    "id": "0Fw6Ok-V1_oT",
    "outputId": "f2949935-1b21-4fac-9320-0b74f2517be5"
   },
   "outputs": [
    {
     "name": "stdout",
     "output_type": "stream",
     "text": [
      "0.9577286361915487\n",
      "0.8378458792026182\n",
      "0.2564663023679417\n",
      "0.392720172930758\n"
     ]
    }
   ],
   "source": [
    "tn=conf_matrix_rf[0,0]\n",
    "fp=conf_matrix_rf[0,1]\n",
    "fn=conf_matrix_rf[1,0]\n",
    "tp=conf_matrix_rf[1,1]\n",
    "\n",
    "acc_rf=(tp+tn)/(tp+tn+fp+fn)\n",
    "precision_rf=tp/(tp+fp)\n",
    "recall_rf=tp/(tp+fn)\n",
    "f1_score_rf=2*(precision_rf*recall_rf)/(precision_rf+recall_rf)\n",
    "\n",
    "print(acc_rf)\n",
    "print(precision_rf)\n",
    "print(recall_rf)\n",
    "print(f1_score_rf)"
   ]
  },
  {
   "cell_type": "code",
   "execution_count": 58,
   "metadata": {
    "colab": {
     "base_uri": "https://localhost:8080/"
    },
    "id": "TmvkCArs5GRF",
    "outputId": "851ad122-a026-4dd4-96b1-74052e9ecc1d"
   },
   "outputs": [
    {
     "name": "stdout",
     "output_type": "stream",
     "text": [
      "cross validation score: [0.9377332  0.94410367 0.95134692 0.97322534 0.9793775 ]\n",
      "average mean : 0.9571573285879886\n"
     ]
    }
   ],
   "source": [
    "cross_rf=RandomForestClassifier(random_state=42)\n",
    "kfold=KFold(n_splits=5)\n",
    "cross_score_rf=cross_val_score(cross_rf,features,target,cv=kfold)\n",
    "\n",
    "print(\"cross validation score:\",cross_score_rf)\n",
    "print(\"average mean :\",cross_score_rf.mean())"
   ]
  },
  {
   "cell_type": "markdown",
   "metadata": {
    "id": "NfHFcEC-6ckp"
   },
   "source": [
    "4.Support Vector Machine"
   ]
  },
  {
   "cell_type": "code",
   "execution_count": 62,
   "metadata": {
    "id": "8qYpGQL35GUQ"
   },
   "outputs": [],
   "source": [
    "x1,x2,y1,y2=train_test_split(features,target,test_size=0.25,random_state=0)\n"
   ]
  },
  {
   "cell_type": "code",
   "execution_count": 61,
   "metadata": {
    "colab": {
     "base_uri": "https://localhost:8080/",
     "height": 75
    },
    "id": "B46gaGIi5GyE",
    "outputId": "29fdfcd2-312a-43cb-d634-789d3a66c03e"
   },
   "outputs": [
    {
     "data": {
      "text/html": [
       "<style>#sk-container-id-1 {color: black;background-color: white;}#sk-container-id-1 pre{padding: 0;}#sk-container-id-1 div.sk-toggleable {background-color: white;}#sk-container-id-1 label.sk-toggleable__label {cursor: pointer;display: block;width: 100%;margin-bottom: 0;padding: 0.3em;box-sizing: border-box;text-align: center;}#sk-container-id-1 label.sk-toggleable__label-arrow:before {content: \"▸\";float: left;margin-right: 0.25em;color: #696969;}#sk-container-id-1 label.sk-toggleable__label-arrow:hover:before {color: black;}#sk-container-id-1 div.sk-estimator:hover label.sk-toggleable__label-arrow:before {color: black;}#sk-container-id-1 div.sk-toggleable__content {max-height: 0;max-width: 0;overflow: hidden;text-align: left;background-color: #f0f8ff;}#sk-container-id-1 div.sk-toggleable__content pre {margin: 0.2em;color: black;border-radius: 0.25em;background-color: #f0f8ff;}#sk-container-id-1 input.sk-toggleable__control:checked~div.sk-toggleable__content {max-height: 200px;max-width: 100%;overflow: auto;}#sk-container-id-1 input.sk-toggleable__control:checked~label.sk-toggleable__label-arrow:before {content: \"▾\";}#sk-container-id-1 div.sk-estimator input.sk-toggleable__control:checked~label.sk-toggleable__label {background-color: #d4ebff;}#sk-container-id-1 div.sk-label input.sk-toggleable__control:checked~label.sk-toggleable__label {background-color: #d4ebff;}#sk-container-id-1 input.sk-hidden--visually {border: 0;clip: rect(1px 1px 1px 1px);clip: rect(1px, 1px, 1px, 1px);height: 1px;margin: -1px;overflow: hidden;padding: 0;position: absolute;width: 1px;}#sk-container-id-1 div.sk-estimator {font-family: monospace;background-color: #f0f8ff;border: 1px dotted black;border-radius: 0.25em;box-sizing: border-box;margin-bottom: 0.5em;}#sk-container-id-1 div.sk-estimator:hover {background-color: #d4ebff;}#sk-container-id-1 div.sk-parallel-item::after {content: \"\";width: 100%;border-bottom: 1px solid gray;flex-grow: 1;}#sk-container-id-1 div.sk-label:hover label.sk-toggleable__label {background-color: #d4ebff;}#sk-container-id-1 div.sk-serial::before {content: \"\";position: absolute;border-left: 1px solid gray;box-sizing: border-box;top: 0;bottom: 0;left: 50%;z-index: 0;}#sk-container-id-1 div.sk-serial {display: flex;flex-direction: column;align-items: center;background-color: white;padding-right: 0.2em;padding-left: 0.2em;position: relative;}#sk-container-id-1 div.sk-item {position: relative;z-index: 1;}#sk-container-id-1 div.sk-parallel {display: flex;align-items: stretch;justify-content: center;background-color: white;position: relative;}#sk-container-id-1 div.sk-item::before, #sk-container-id-1 div.sk-parallel-item::before {content: \"\";position: absolute;border-left: 1px solid gray;box-sizing: border-box;top: 0;bottom: 0;left: 50%;z-index: -1;}#sk-container-id-1 div.sk-parallel-item {display: flex;flex-direction: column;z-index: 1;position: relative;background-color: white;}#sk-container-id-1 div.sk-parallel-item:first-child::after {align-self: flex-end;width: 50%;}#sk-container-id-1 div.sk-parallel-item:last-child::after {align-self: flex-start;width: 50%;}#sk-container-id-1 div.sk-parallel-item:only-child::after {width: 0;}#sk-container-id-1 div.sk-dashed-wrapped {border: 1px dashed gray;margin: 0 0.4em 0.5em 0.4em;box-sizing: border-box;padding-bottom: 0.4em;background-color: white;}#sk-container-id-1 div.sk-label label {font-family: monospace;font-weight: bold;display: inline-block;line-height: 1.2em;}#sk-container-id-1 div.sk-label-container {text-align: center;}#sk-container-id-1 div.sk-container {/* jupyter's `normalize.less` sets `[hidden] { display: none; }` but bootstrap.min.css set `[hidden] { display: none !important; }` so we also need the `!important` here to be able to override the default hidden behavior on the sphinx rendered scikit-learn.org. See: https://github.com/scikit-learn/scikit-learn/issues/21755 */display: inline-block !important;position: relative;}#sk-container-id-1 div.sk-text-repr-fallback {display: none;}</style><div id=\"sk-container-id-1\" class=\"sk-top-container\"><div class=\"sk-text-repr-fallback\"><pre>SVC()</pre><b>In a Jupyter environment, please rerun this cell to show the HTML representation or trust the notebook. <br />On GitHub, the HTML representation is unable to render, please try loading this page with nbviewer.org.</b></div><div class=\"sk-container\" hidden><div class=\"sk-item\"><div class=\"sk-estimator sk-toggleable\"><input class=\"sk-toggleable__control sk-hidden--visually\" id=\"sk-estimator-id-1\" type=\"checkbox\" checked><label for=\"sk-estimator-id-1\" class=\"sk-toggleable__label sk-toggleable__label-arrow\">SVC</label><div class=\"sk-toggleable__content\"><pre>SVC()</pre></div></div></div></div></div>"
      ],
      "text/plain": [
       "SVC()"
      ]
     },
     "execution_count": 61,
     "metadata": {},
     "output_type": "execute_result"
    }
   ],
   "source": [
    "from sklearn.svm import SVC\n",
    "svc=SVC()\n",
    "svc.fit(x1,y1)"
   ]
  },
  {
   "cell_type": "code",
   "execution_count": 63,
   "metadata": {
    "id": "9zJGl8GK5G0Q"
   },
   "outputs": [],
   "source": [
    "y_train_svm=svc.predict(x1)\n",
    "y_pred_svm=svc.predict(x2)"
   ]
  },
  {
   "cell_type": "code",
   "execution_count": 64,
   "metadata": {
    "colab": {
     "base_uri": "https://localhost:8080/"
    },
    "id": "jRmZWc1i5G4q",
    "outputId": "a1a4f2f7-85e4-400b-8592-fbfe10c3f753"
   },
   "outputs": [
    {
     "data": {
      "text/plain": [
       "0.9314358381951793"
      ]
     },
     "execution_count": 64,
     "metadata": {},
     "output_type": "execute_result"
    }
   ],
   "source": [
    "acc_train_svm=accuracy_score(y_train,y_train_svm)\n",
    "acc_train_svm"
   ]
  },
  {
   "cell_type": "code",
   "execution_count": 65,
   "metadata": {
    "colab": {
     "base_uri": "https://localhost:8080/"
    },
    "id": "HidgoinZ5HFm",
    "outputId": "9c4f8d52-83c0-47c4-ebea-933f867afac0"
   },
   "outputs": [
    {
     "name": "stdout",
     "output_type": "stream",
     "text": [
      "confusion matrix: \n",
      " [[64812   175]\n",
      " [ 2789   900]]\n"
     ]
    }
   ],
   "source": [
    "confusion_mat=confusion_matrix(y2,y_pred_svm)\n",
    "print(\"confusion matrix: \\n\",confusion_mat)"
   ]
  },
  {
   "cell_type": "code",
   "execution_count": 66,
   "metadata": {
    "colab": {
     "base_uri": "https://localhost:8080/"
    },
    "id": "g7wmnwm65HHy",
    "outputId": "ab2affff-4681-4640-8d98-5ddb15c115fe"
   },
   "outputs": [
    {
     "name": "stdout",
     "output_type": "stream",
     "text": [
      "0.9568408177529268\n",
      "0.8372093023255814\n",
      "0.2439685551640011\n",
      "0.37783375314861467\n"
     ]
    }
   ],
   "source": [
    "tn = confusion_mat[0,0]\n",
    "fp = confusion_mat[0,1]\n",
    "fn = confusion_mat[1,0]\n",
    "tp = confusion_mat[1,1]\n",
    "\n",
    "acc_svm = (tp+tn)/(tp+tn+fp+fn)\n",
    "precision_svm = tp/(tp+fp)\n",
    "recall_svm = tp/(tp+fn)\n",
    "f_score_svm = 2*(precision_svm*recall_svm)/(precision_svm + recall_svm)\n",
    "\n",
    "print(acc_svm)\n",
    "print(precision_svm)\n",
    "print(recall_svm)\n",
    "print(f_score_svm)"
   ]
  },
  {
   "cell_type": "markdown",
   "metadata": {
    "id": "VG5dQLoc86s4"
   },
   "source": [
    "5.Adaboost model"
   ]
  },
  {
   "cell_type": "code",
   "execution_count": 67,
   "metadata": {
    "id": "sclkq2oY5HLS"
   },
   "outputs": [],
   "source": [
    "from sklearn.ensemble import AdaBoostClassifier\n",
    "\n",
    "x1,x2,y1,y2=train_test_split(features,target,test_size=0.25,random_state=130)\n",
    "clf=AdaBoostClassifier(DecisionTreeClassifier(max_depth=3),n_estimators=100)\n",
    "clf.fit(x1,y1)\n",
    "\n",
    "y_train_ada=clf.predict(x1)\n",
    "y_pred_ada=clf.predict(x2)\n"
   ]
  },
  {
   "cell_type": "code",
   "execution_count": 68,
   "metadata": {
    "colab": {
     "base_uri": "https://localhost:8080/"
    },
    "id": "oELHJKhC-p3Z",
    "outputId": "d979c076-e315-47af-904a-d0467faa6cf9"
   },
   "outputs": [
    {
     "name": "stdout",
     "output_type": "stream",
     "text": [
      "0.9571995767524487\n",
      "\n",
      "\n",
      "confusion matrix: \n",
      " [[64861   204]\n",
      " [ 2659   952]]\n"
     ]
    }
   ],
   "source": [
    "acc_train_ada=accuracy_score(y1,y_train_ada)\n",
    "print(acc_train_ada)\n",
    "print(\"\\n\")\n",
    "\n",
    "conf_mat=confusion_matrix(y2,y_pred_ada)\n",
    "print(\"confusion matrix: \\n\",conf_mat)\n"
   ]
  },
  {
   "cell_type": "code",
   "execution_count": 69,
   "metadata": {
    "colab": {
     "base_uri": "https://localhost:8080/"
    },
    "id": "lo9cQyuU-rwn",
    "outputId": "f108d274-8605-47c7-e78a-0271bcf726d6"
   },
   "outputs": [
    {
     "name": "stdout",
     "output_type": "stream",
     "text": [
      "0.9568408177529268\n",
      "0.8372093023255814\n",
      "0.2439685551640011\n",
      "0.37783375314861467\n"
     ]
    }
   ],
   "source": [
    "tn = confusion_mat[0,0]\n",
    "fp = confusion_mat[0,1]\n",
    "fn = confusion_mat[1,0]\n",
    "tp = confusion_mat[1,1]\n",
    "\n",
    "acc_ad = (tp+tn)/(tp+tn+fp+fn)\n",
    "precision_ad = tp/(tp+fp)\n",
    "recall_ad = tp/(tp+fn)\n",
    "f_score_ad = 2*(precision_ad*recall_ad)/(precision_ad + recall_ad)\n",
    "\n",
    "print(acc_ad)\n",
    "print(precision_ad)\n",
    "print(recall_ad)\n",
    "print(f_score_ad)"
   ]
  },
  {
   "cell_type": "code",
   "execution_count": 70,
   "metadata": {
    "colab": {
     "base_uri": "https://localhost:8080/"
    },
    "id": "MRDFqsfz-rzM",
    "outputId": "7c973550-8c21-4210-bc02-2422c7512a53"
   },
   "outputs": [
    {
     "name": "stdout",
     "output_type": "stream",
     "text": [
      "cross validation score: [0.93676968 0.93676968 0.93451037 0.9445577  0.94179104 0.95573353\n",
      " 0.97149618 0.97528213 0.97699308 0.98190754]\n",
      "Average mean: 0.9555810937773253\n"
     ]
    }
   ],
   "source": [
    "cross_ad = AdaBoostClassifier(random_state = 42)\n",
    "kfold = KFold(n_splits = 10)\n",
    "cross_score_ad = cross_val_score(cross_ad,features,target,cv = kfold)\n",
    "print(\"cross validation score:\" , cross_score_ad)\n",
    "print(\"Average mean:\",cross_score_ad.mean())"
   ]
  },
  {
   "cell_type": "markdown",
   "metadata": {
    "id": "UwkxJIstAi54"
   },
   "source": [
    "6.Gradient Boost"
   ]
  },
  {
   "cell_type": "code",
   "execution_count": 71,
   "metadata": {
    "id": "KFsTVb9i-r2V"
   },
   "outputs": [],
   "source": [
    "from sklearn.ensemble import GradientBoostingClassifier\n",
    "x1,x2,y1,y2=train_test_split(features,target,test_size=0.25,random_state=160)\n",
    "\n",
    "gb=GradientBoostingClassifier()\n",
    "gb.fit(x1,y1)\n",
    "\n",
    "y_train_gb=gb.predict(x1)\n",
    "y_pred_gb=gb.predict(x2)\n",
    "\n"
   ]
  },
  {
   "cell_type": "code",
   "execution_count": 72,
   "metadata": {
    "colab": {
     "base_uri": "https://localhost:8080/"
    },
    "id": "dgktenEf-sC7",
    "outputId": "2fdf2887-2d2f-4bde-93c6-41c36a6965d6"
   },
   "outputs": [
    {
     "name": "stdout",
     "output_type": "stream",
     "text": [
      "0.956714201120247\n"
     ]
    }
   ],
   "source": [
    "acc_train_gb=accuracy_score(y1,y_train_gb)\n",
    "print(acc_train_gb)"
   ]
  },
  {
   "cell_type": "code",
   "execution_count": 73,
   "metadata": {
    "colab": {
     "base_uri": "https://localhost:8080/"
    },
    "id": "Ph35PU4u-sFC",
    "outputId": "a8a97be8-4d1a-471b-bc5d-3bb4ef13bf37"
   },
   "outputs": [
    {
     "name": "stdout",
     "output_type": "stream",
     "text": [
      "confusion matrix:\n",
      " [[64974   159]\n",
      " [ 2631   912]]\n"
     ]
    }
   ],
   "source": [
    "conf_mat=confusion_matrix(y2,y_pred_gb)\n",
    "print(\"confusion matrix:\\n\",conf_mat)"
   ]
  },
  {
   "cell_type": "code",
   "execution_count": 74,
   "metadata": {
    "colab": {
     "base_uri": "https://localhost:8080/"
    },
    "id": "xnCv2xJl-sIp",
    "outputId": "63c96a15-62fe-49a3-f5f6-d526ae76da4a"
   },
   "outputs": [
    {
     "name": "stdout",
     "output_type": "stream",
     "text": [
      "0.9593744539577145\n",
      "0.8515406162464986\n",
      "0.2574089754445385\n",
      "0.3953185955786736\n"
     ]
    }
   ],
   "source": [
    "tn = conf_mat[0,0]\n",
    "fp = conf_mat[0,1]\n",
    "fn = conf_mat[1,0]\n",
    "tp = conf_mat[1,1]\n",
    "\n",
    "acc_gb = (tp+tn)/(tp+tn+fp+fn)\n",
    "precision_gb = tp/(tp+fp)\n",
    "recall_gb = tp/(tp+fn)\n",
    "f_score_gb = 2*(precision_gb*recall_gb)/(precision_gb + recall_gb)\n",
    "\n",
    "print(acc_gb)\n",
    "print(precision_gb)\n",
    "print(recall_gb)\n",
    "print(f_score_gb)"
   ]
  },
  {
   "cell_type": "code",
   "execution_count": 75,
   "metadata": {
    "colab": {
     "base_uri": "https://localhost:8080/"
    },
    "id": "i1VJHQ3l-qDU",
    "outputId": "dcbfbfed-f5ac-481d-c252-ad605b63db39"
   },
   "outputs": [
    {
     "name": "stdout",
     "output_type": "stream",
     "text": [
      "cross validation score: [0.93269266 0.94179316 0.94193666 0.94808882 0.94637787 0.95558791\n",
      " 0.97120495 0.97524572 0.97692028 0.98183473]\n",
      "Average mean: 0.9571682763530346\n"
     ]
    }
   ],
   "source": [
    "cross_gb=GradientBoostingClassifier(random_state=42)\n",
    "kfold=KFold(n_splits=10)\n",
    "cross_score_gb=cross_val_score(cross_gb,features,target,cv=kfold)\n",
    "\n",
    "print(\"cross validation score:\" , cross_score_gb)\n",
    "print(\"Average mean:\",cross_score_gb.mean())"
   ]
  },
  {
   "cell_type": "markdown",
   "metadata": {
    "id": "XYBlKidOc8Uu"
   },
   "source": [
    "7.KNN classification"
   ]
  },
  {
   "cell_type": "code",
   "execution_count": 80,
   "metadata": {
    "colab": {
     "base_uri": "https://localhost:8080/",
     "height": 75
    },
    "id": "5c04079a",
    "outputId": "e40c6001-e086-4800-b78e-4fe1ccf13b4a"
   },
   "outputs": [
    {
     "data": {
      "text/html": [
       "<style>#sk-container-id-3 {color: black;background-color: white;}#sk-container-id-3 pre{padding: 0;}#sk-container-id-3 div.sk-toggleable {background-color: white;}#sk-container-id-3 label.sk-toggleable__label {cursor: pointer;display: block;width: 100%;margin-bottom: 0;padding: 0.3em;box-sizing: border-box;text-align: center;}#sk-container-id-3 label.sk-toggleable__label-arrow:before {content: \"▸\";float: left;margin-right: 0.25em;color: #696969;}#sk-container-id-3 label.sk-toggleable__label-arrow:hover:before {color: black;}#sk-container-id-3 div.sk-estimator:hover label.sk-toggleable__label-arrow:before {color: black;}#sk-container-id-3 div.sk-toggleable__content {max-height: 0;max-width: 0;overflow: hidden;text-align: left;background-color: #f0f8ff;}#sk-container-id-3 div.sk-toggleable__content pre {margin: 0.2em;color: black;border-radius: 0.25em;background-color: #f0f8ff;}#sk-container-id-3 input.sk-toggleable__control:checked~div.sk-toggleable__content {max-height: 200px;max-width: 100%;overflow: auto;}#sk-container-id-3 input.sk-toggleable__control:checked~label.sk-toggleable__label-arrow:before {content: \"▾\";}#sk-container-id-3 div.sk-estimator input.sk-toggleable__control:checked~label.sk-toggleable__label {background-color: #d4ebff;}#sk-container-id-3 div.sk-label input.sk-toggleable__control:checked~label.sk-toggleable__label {background-color: #d4ebff;}#sk-container-id-3 input.sk-hidden--visually {border: 0;clip: rect(1px 1px 1px 1px);clip: rect(1px, 1px, 1px, 1px);height: 1px;margin: -1px;overflow: hidden;padding: 0;position: absolute;width: 1px;}#sk-container-id-3 div.sk-estimator {font-family: monospace;background-color: #f0f8ff;border: 1px dotted black;border-radius: 0.25em;box-sizing: border-box;margin-bottom: 0.5em;}#sk-container-id-3 div.sk-estimator:hover {background-color: #d4ebff;}#sk-container-id-3 div.sk-parallel-item::after {content: \"\";width: 100%;border-bottom: 1px solid gray;flex-grow: 1;}#sk-container-id-3 div.sk-label:hover label.sk-toggleable__label {background-color: #d4ebff;}#sk-container-id-3 div.sk-serial::before {content: \"\";position: absolute;border-left: 1px solid gray;box-sizing: border-box;top: 0;bottom: 0;left: 50%;z-index: 0;}#sk-container-id-3 div.sk-serial {display: flex;flex-direction: column;align-items: center;background-color: white;padding-right: 0.2em;padding-left: 0.2em;position: relative;}#sk-container-id-3 div.sk-item {position: relative;z-index: 1;}#sk-container-id-3 div.sk-parallel {display: flex;align-items: stretch;justify-content: center;background-color: white;position: relative;}#sk-container-id-3 div.sk-item::before, #sk-container-id-3 div.sk-parallel-item::before {content: \"\";position: absolute;border-left: 1px solid gray;box-sizing: border-box;top: 0;bottom: 0;left: 50%;z-index: -1;}#sk-container-id-3 div.sk-parallel-item {display: flex;flex-direction: column;z-index: 1;position: relative;background-color: white;}#sk-container-id-3 div.sk-parallel-item:first-child::after {align-self: flex-end;width: 50%;}#sk-container-id-3 div.sk-parallel-item:last-child::after {align-self: flex-start;width: 50%;}#sk-container-id-3 div.sk-parallel-item:only-child::after {width: 0;}#sk-container-id-3 div.sk-dashed-wrapped {border: 1px dashed gray;margin: 0 0.4em 0.5em 0.4em;box-sizing: border-box;padding-bottom: 0.4em;background-color: white;}#sk-container-id-3 div.sk-label label {font-family: monospace;font-weight: bold;display: inline-block;line-height: 1.2em;}#sk-container-id-3 div.sk-label-container {text-align: center;}#sk-container-id-3 div.sk-container {/* jupyter's `normalize.less` sets `[hidden] { display: none; }` but bootstrap.min.css set `[hidden] { display: none !important; }` so we also need the `!important` here to be able to override the default hidden behavior on the sphinx rendered scikit-learn.org. See: https://github.com/scikit-learn/scikit-learn/issues/21755 */display: inline-block !important;position: relative;}#sk-container-id-3 div.sk-text-repr-fallback {display: none;}</style><div id=\"sk-container-id-3\" class=\"sk-top-container\"><div class=\"sk-text-repr-fallback\"><pre>KNeighborsClassifier()</pre><b>In a Jupyter environment, please rerun this cell to show the HTML representation or trust the notebook. <br />On GitHub, the HTML representation is unable to render, please try loading this page with nbviewer.org.</b></div><div class=\"sk-container\" hidden><div class=\"sk-item\"><div class=\"sk-estimator sk-toggleable\"><input class=\"sk-toggleable__control sk-hidden--visually\" id=\"sk-estimator-id-3\" type=\"checkbox\" checked><label for=\"sk-estimator-id-3\" class=\"sk-toggleable__label sk-toggleable__label-arrow\">KNeighborsClassifier</label><div class=\"sk-toggleable__content\"><pre>KNeighborsClassifier()</pre></div></div></div></div></div>"
      ],
      "text/plain": [
       "KNeighborsClassifier()"
      ]
     },
     "execution_count": 80,
     "metadata": {},
     "output_type": "execute_result"
    }
   ],
   "source": [
    "from sklearn.neighbors import KNeighborsClassifier  \n",
    "\n",
    "x_train , x_test, y_train, y_test= train_test_split(features, target, test_size = 0.25, random_state = 230)\n",
    "classifier= KNeighborsClassifier()  \n",
    "classifier.fit(x_train, y_train) "
   ]
  },
  {
   "cell_type": "code",
   "execution_count": 81,
   "metadata": {
    "id": "414c8ddb"
   },
   "outputs": [],
   "source": [
    "y_train_knn = classifier.predict(x_train)\n",
    "y_pred_knn = classifier.predict(x_test)  "
   ]
  },
  {
   "cell_type": "code",
   "execution_count": null,
   "metadata": {
    "id": "5xxPuEEZ2AQS"
   },
   "outputs": [],
   "source": [
    "acc_train_knn = accuracy_score(y_train,y_train_knn)\n",
    "print(acc_train_knn)\n",
    "print('\\n\\n')\n",
    "confusion_mat = confusion_matrix(y_test,y_pred_knn)\n",
    "\n",
    "print('confusion_matrix: \\n ',confusion_mat)"
   ]
  },
  {
   "cell_type": "code",
   "execution_count": 82,
   "metadata": {
    "colab": {
     "base_uri": "https://localhost:8080/"
    },
    "id": "B9EaVfkJ2Aa8",
    "outputId": "62e4b32e-513e-49ce-ee2e-5030e52dad8c"
   },
   "outputs": [
    {
     "name": "stdout",
     "output_type": "stream",
     "text": [
      "0.9577144854097501\n",
      "0.850956696878147\n",
      "0.23465703971119134\n",
      "0.3678711362646931\n"
     ]
    }
   ],
   "source": [
    "tn = confusion_mat[0,0]\n",
    "fp = confusion_mat[0,1]\n",
    "fn = confusion_mat[1,0]\n",
    "tp = confusion_mat[1,1]\n",
    "\n",
    "acc_knn = (tp+tn)/(tp+tn+fp+fn)\n",
    "precision_knn = tp/(tp+fp)\n",
    "recall_knn = tp/(tp+fn)\n",
    "f_score_knn = 2*(precision_knn*recall_knn)/(precision_knn + recall_knn)\n",
    "\n",
    "print(acc_knn)\n",
    "print(precision_knn)\n",
    "print(recall_knn)\n",
    "print(f_score_knn)"
   ]
  },
  {
   "cell_type": "code",
   "execution_count": 83,
   "metadata": {
    "colab": {
     "base_uri": "https://localhost:8080/"
    },
    "id": "p680Ft06wvg0",
    "outputId": "475e71de-4004-4649-a7dd-db95e5e4d7a1"
   },
   "outputs": [
    {
     "name": "stdout",
     "output_type": "stream",
     "text": [
      "Cross validation scores:  [0.05349375 0.95234888 0.95314889 0.9380597  0.94657809]\n",
      "Mean cross validation score:  0.7687258615120816\n"
     ]
    }
   ],
   "source": [
    "knn =KNeighborsClassifier()\n",
    "cross_score_KNN = cross_val_score(knn, features, target, cv=5)\n",
    "\n",
    "print(\"Cross validation scores: \", cross_score_KNN)\n",
    "print(\"Mean cross validation score: \", cross_score_KNN.mean())"
   ]
  },
  {
   "cell_type": "code",
   "execution_count": 84,
   "metadata": {
    "id": "BECm4OEhsKWv"
   },
   "outputs": [],
   "source": [
    "dict ={\n",
    "    'Accuracy_Train_set' : [acc_train_lr*100 , acc_train_dt*100, acc_train_rf*100, acc_train_svm*100, acc_train_ada*100 , acc_train_gb*100 , acc_train_knn*100 ],\n",
    "    'Accuracy_Test_set' : [acc_logistic*100, accuracy_dt*100, acc_rf*100, acc_svm*100, acc_ad*100, acc_gb*100, acc_knn*100],\n",
    "    'Precision' : [prec_logistic*100, precision_dt*100, precision_rf*100, precision_svm*100, precision_ad*100, precision_gb*100, precision_knn*100],\n",
    "    'Recall' : [recall_logistic*100, recall_dt*100, recall_rf*100, recall_svm*100,recall_ad*100,recall_gb*100,recall_knn*100],\n",
    "    'F-1 Score' : [f1_logistic*100, f1_dt*100, f1_score_rf*100, f_score_svm*100, f_score_ad*100, f_score_gb*100, f_score_knn*100]}"
   ]
  },
  {
   "cell_type": "code",
   "execution_count": 85,
   "metadata": {
    "id": "vSohkb2qsKZR"
   },
   "outputs": [],
   "source": [
    "df = pd.DataFrame(dict,index = ['Logistic Regression', 'Decision Tree','Random Forest', 'Support Vector Machine','Adaboost','Gradient Boost', 'KNN'])"
   ]
  },
  {
   "cell_type": "code",
   "execution_count": 86,
   "metadata": {
    "colab": {
     "base_uri": "https://localhost:8080/",
     "height": 269
    },
    "id": "cbaid2KQsKbH",
    "outputId": "531875e1-479b-4121-8eea-87edbf38f496"
   },
   "outputs": [
    {
     "data": {
      "text/html": [
       "\n",
       "  <div id=\"df-82a19646-1a2f-4d95-85c4-66818e07edca\">\n",
       "    <div class=\"colab-df-container\">\n",
       "      <div>\n",
       "<style scoped>\n",
       "    .dataframe tbody tr th:only-of-type {\n",
       "        vertical-align: middle;\n",
       "    }\n",
       "\n",
       "    .dataframe tbody tr th {\n",
       "        vertical-align: top;\n",
       "    }\n",
       "\n",
       "    .dataframe thead th {\n",
       "        text-align: right;\n",
       "    }\n",
       "</style>\n",
       "<table border=\"1\" class=\"dataframe\">\n",
       "  <thead>\n",
       "    <tr style=\"text-align: right;\">\n",
       "      <th></th>\n",
       "      <th>Accuracy_Train_set</th>\n",
       "      <th>Accuracy_Test_set</th>\n",
       "      <th>Precision</th>\n",
       "      <th>Recall</th>\n",
       "      <th>F-1 Score</th>\n",
       "    </tr>\n",
       "  </thead>\n",
       "  <tbody>\n",
       "    <tr>\n",
       "      <th>Decision Tree</th>\n",
       "      <td>95.783057</td>\n",
       "      <td>95.641855</td>\n",
       "      <td>82.104391</td>\n",
       "      <td>26.300425</td>\n",
       "      <td>39.839196</td>\n",
       "    </tr>\n",
       "    <tr>\n",
       "      <th>Support Vector Machine</th>\n",
       "      <td>93.143584</td>\n",
       "      <td>95.684082</td>\n",
       "      <td>83.720930</td>\n",
       "      <td>24.396856</td>\n",
       "      <td>37.783375</td>\n",
       "    </tr>\n",
       "    <tr>\n",
       "      <th>Adaboost</th>\n",
       "      <td>95.719958</td>\n",
       "      <td>95.684082</td>\n",
       "      <td>83.720930</td>\n",
       "      <td>24.396856</td>\n",
       "      <td>37.783375</td>\n",
       "    </tr>\n",
       "    <tr>\n",
       "      <th>Logistic Regression</th>\n",
       "      <td>95.671420</td>\n",
       "      <td>95.735046</td>\n",
       "      <td>84.288538</td>\n",
       "      <td>23.544024</td>\n",
       "      <td>36.806904</td>\n",
       "    </tr>\n",
       "    <tr>\n",
       "      <th>KNN</th>\n",
       "      <td>95.705882</td>\n",
       "      <td>95.771449</td>\n",
       "      <td>85.095670</td>\n",
       "      <td>23.465704</td>\n",
       "      <td>36.787114</td>\n",
       "    </tr>\n",
       "    <tr>\n",
       "      <th>Random Forest</th>\n",
       "      <td>95.772864</td>\n",
       "      <td>95.772864</td>\n",
       "      <td>83.784588</td>\n",
       "      <td>25.646630</td>\n",
       "      <td>39.272017</td>\n",
       "    </tr>\n",
       "    <tr>\n",
       "      <th>Gradient Boost</th>\n",
       "      <td>95.671420</td>\n",
       "      <td>95.937445</td>\n",
       "      <td>85.154062</td>\n",
       "      <td>25.740898</td>\n",
       "      <td>39.531860</td>\n",
       "    </tr>\n",
       "  </tbody>\n",
       "</table>\n",
       "</div>\n",
       "      <button class=\"colab-df-convert\" onclick=\"convertToInteractive('df-82a19646-1a2f-4d95-85c4-66818e07edca')\"\n",
       "              title=\"Convert this dataframe to an interactive table.\"\n",
       "              style=\"display:none;\">\n",
       "        \n",
       "  <svg xmlns=\"http://www.w3.org/2000/svg\" height=\"24px\"viewBox=\"0 0 24 24\"\n",
       "       width=\"24px\">\n",
       "    <path d=\"M0 0h24v24H0V0z\" fill=\"none\"/>\n",
       "    <path d=\"M18.56 5.44l.94 2.06.94-2.06 2.06-.94-2.06-.94-.94-2.06-.94 2.06-2.06.94zm-11 1L8.5 8.5l.94-2.06 2.06-.94-2.06-.94L8.5 2.5l-.94 2.06-2.06.94zm10 10l.94 2.06.94-2.06 2.06-.94-2.06-.94-.94-2.06-.94 2.06-2.06.94z\"/><path d=\"M17.41 7.96l-1.37-1.37c-.4-.4-.92-.59-1.43-.59-.52 0-1.04.2-1.43.59L10.3 9.45l-7.72 7.72c-.78.78-.78 2.05 0 2.83L4 21.41c.39.39.9.59 1.41.59.51 0 1.02-.2 1.41-.59l7.78-7.78 2.81-2.81c.8-.78.8-2.07 0-2.86zM5.41 20L4 18.59l7.72-7.72 1.47 1.35L5.41 20z\"/>\n",
       "  </svg>\n",
       "      </button>\n",
       "      \n",
       "  <style>\n",
       "    .colab-df-container {\n",
       "      display:flex;\n",
       "      flex-wrap:wrap;\n",
       "      gap: 12px;\n",
       "    }\n",
       "\n",
       "    .colab-df-convert {\n",
       "      background-color: #E8F0FE;\n",
       "      border: none;\n",
       "      border-radius: 50%;\n",
       "      cursor: pointer;\n",
       "      display: none;\n",
       "      fill: #1967D2;\n",
       "      height: 32px;\n",
       "      padding: 0 0 0 0;\n",
       "      width: 32px;\n",
       "    }\n",
       "\n",
       "    .colab-df-convert:hover {\n",
       "      background-color: #E2EBFA;\n",
       "      box-shadow: 0px 1px 2px rgba(60, 64, 67, 0.3), 0px 1px 3px 1px rgba(60, 64, 67, 0.15);\n",
       "      fill: #174EA6;\n",
       "    }\n",
       "\n",
       "    [theme=dark] .colab-df-convert {\n",
       "      background-color: #3B4455;\n",
       "      fill: #D2E3FC;\n",
       "    }\n",
       "\n",
       "    [theme=dark] .colab-df-convert:hover {\n",
       "      background-color: #434B5C;\n",
       "      box-shadow: 0px 1px 3px 1px rgba(0, 0, 0, 0.15);\n",
       "      filter: drop-shadow(0px 1px 2px rgba(0, 0, 0, 0.3));\n",
       "      fill: #FFFFFF;\n",
       "    }\n",
       "  </style>\n",
       "\n",
       "      <script>\n",
       "        const buttonEl =\n",
       "          document.querySelector('#df-82a19646-1a2f-4d95-85c4-66818e07edca button.colab-df-convert');\n",
       "        buttonEl.style.display =\n",
       "          google.colab.kernel.accessAllowed ? 'block' : 'none';\n",
       "\n",
       "        async function convertToInteractive(key) {\n",
       "          const element = document.querySelector('#df-82a19646-1a2f-4d95-85c4-66818e07edca');\n",
       "          const dataTable =\n",
       "            await google.colab.kernel.invokeFunction('convertToInteractive',\n",
       "                                                     [key], {});\n",
       "          if (!dataTable) return;\n",
       "\n",
       "          const docLinkHtml = 'Like what you see? Visit the ' +\n",
       "            '<a target=\"_blank\" href=https://colab.research.google.com/notebooks/data_table.ipynb>data table notebook</a>'\n",
       "            + ' to learn more about interactive tables.';\n",
       "          element.innerHTML = '';\n",
       "          dataTable['output_type'] = 'display_data';\n",
       "          await google.colab.output.renderOutput(dataTable, element);\n",
       "          const docLink = document.createElement('div');\n",
       "          docLink.innerHTML = docLinkHtml;\n",
       "          element.appendChild(docLink);\n",
       "        }\n",
       "      </script>\n",
       "    </div>\n",
       "  </div>\n",
       "  "
      ],
      "text/plain": [
       "                        Accuracy_Train_set  Accuracy_Test_set  Precision  \\\n",
       "Decision Tree                    95.783057          95.641855  82.104391   \n",
       "Support Vector Machine           93.143584          95.684082  83.720930   \n",
       "Adaboost                         95.719958          95.684082  83.720930   \n",
       "Logistic Regression              95.671420          95.735046  84.288538   \n",
       "KNN                              95.705882          95.771449  85.095670   \n",
       "Random Forest                    95.772864          95.772864  83.784588   \n",
       "Gradient Boost                   95.671420          95.937445  85.154062   \n",
       "\n",
       "                           Recall  F-1 Score  \n",
       "Decision Tree           26.300425  39.839196  \n",
       "Support Vector Machine  24.396856  37.783375  \n",
       "Adaboost                24.396856  37.783375  \n",
       "Logistic Regression     23.544024  36.806904  \n",
       "KNN                     23.465704  36.787114  \n",
       "Random Forest           25.646630  39.272017  \n",
       "Gradient Boost          25.740898  39.531860  "
      ]
     },
     "execution_count": 86,
     "metadata": {},
     "output_type": "execute_result"
    }
   ],
   "source": [
    "df.sort_values(by='Accuracy_Test_set')"
   ]
  },
  {
   "cell_type": "markdown",
   "metadata": {
    "id": "L8PzO4zVe1LH"
   },
   "source": [
    "Decision tree and Logistic Regression are the better model to predict covid status"
   ]
  },
  {
   "cell_type": "markdown",
   "metadata": {
    "id": "Kd6A7fR8e34X"
   },
   "source": [
    "Saving the models"
   ]
  },
  {
   "cell_type": "code",
   "execution_count": 87,
   "metadata": {
    "id": "sYPrVGZsdQM0"
   },
   "outputs": [],
   "source": [
    "t = [1,1,1,1,1]\n",
    "a=pd.DataFrame()"
   ]
  },
  {
   "cell_type": "code",
   "execution_count": 88,
   "metadata": {
    "colab": {
     "base_uri": "https://localhost:8080/"
    },
    "id": "plyLJvzsdQbc",
    "outputId": "33cca888-ba9f-4768-ee3b-baa095f74110"
   },
   "outputs": [
    {
     "data": {
      "text/plain": [
       "['Decision_Tree_Model']"
      ]
     },
     "execution_count": 88,
     "metadata": {},
     "output_type": "execute_result"
    }
   ],
   "source": [
    "import joblib\n",
    "\n",
    "x_1 = features\n",
    "y_1 = target\n",
    "decision_tree = DecisionTreeClassifier()\n",
    "decision_tree.fit(x_1, y_1)\n",
    "\n",
    "joblib.dump(decision_tree,'Decision_Tree_Model')"
   ]
  },
  {
   "cell_type": "code",
   "execution_count": 89,
   "metadata": {
    "colab": {
     "base_uri": "https://localhost:8080/"
    },
    "id": "sFAdy1MzaBJA",
    "outputId": "b7f7c642-2ba1-42da-c4a6-a2fe48735443"
   },
   "outputs": [
    {
     "data": {
      "text/plain": [
       "['logistic_regression_Model']"
      ]
     },
     "execution_count": 89,
     "metadata": {},
     "output_type": "execute_result"
    }
   ],
   "source": [
    "logistic_regression = LogisticRegression(solver='lbfgs', multi_class='auto',random_state = 42)\n",
    "logistic_regression.fit(x_1, y_1)\n",
    "joblib.dump(logistic_regression,'logistic_regression_Model')"
   ]
  },
  {
   "cell_type": "code",
   "execution_count": null,
   "metadata": {
    "id": "8258d1ce"
   },
   "outputs": [],
   "source": [
    "import tkinter as tk\n",
    "import joblib\n",
    "\n",
    "root = tk.Tk()\n",
    "root.title(\"Model selection\")\n",
    "\n",
    "DT = joblib.load('Decision_Tree_Model')\n",
    "LR = joblib.load('logistic_regression_Model')\n",
    "def check(x): \n",
    "    tk.Label(root,text = 'Coughness ( 1 : Yes , 0: No)').grid(row=1)\n",
    "    tk.Label(root,text = 'Fever ( 1 : Yes , 0: No)').grid(row=2)\n",
    "    tk.Label(root,text = 'Sore throat ( 1 : Yes , 0: No)').grid(row=3)\n",
    "    tk.Label(root,text = 'breath problems ( 1 : Yes , 0: No)').grid(row=4)\n",
    "    tk.Label(root,text = 'Headache (yes : 1, No : 0)').grid(row=5)\n",
    "    \n",
    "                                                 \n",
    "    e1=tk.Entry(root)\n",
    "    e2=tk.Entry(root)\n",
    "    e3=tk.Entry(root)\n",
    "    e4=tk.Entry(root)\n",
    "    e5=tk.Entry(root)\n",
    "    \n",
    "                                                 \n",
    "    e1.grid(row=1, column=1)\n",
    "    e2.grid(row=2, column=1)\n",
    "    e3.grid(row=3, column=1)\n",
    "    e4.grid(row=4, column=1)\n",
    "    e5.grid(row=5, column=1)\n",
    "   \n",
    "        \n",
    "    def output():\n",
    "        p1=int(e1.get())\n",
    "        p2=int(e2.get())\n",
    "        p3=int(e3.get())\n",
    "        p4=int(e4.get())\n",
    "        p5=int(e5.get())\n",
    "       \n",
    "\n",
    "        if x == 'DT':\n",
    "            df = pandas.DataFrame([[p1,p2,p3,p4,p5]],columns=['Cough_symptoms_true', 'Fever_true', 'Sore_throat_true','Shortness_of_breath_true', 'Headache_true'])\n",
    "            result = DT.predict(df)\n",
    "            output = 'Positive' if result == 0 else 'Negative'\n",
    "            result_label = tk.Label(root, text=\"\")\n",
    "            result_label.grid(row=10,column=1)\n",
    "            result_label.config(text=str(output))\n",
    "        else:\n",
    "\n",
    "            result = LR.predict([[p1,p2,p3,p4,p5]])\n",
    "            output = 'Positive' if result == 0 else 'Negative'\n",
    "            result_label = tk.Label(root, text=\"\")\n",
    "            result_label.grid(row=10,column=1)\n",
    "            result_label.config(text=str(output))\n",
    "        \n",
    "\n",
    "    tk.Button(root, text=\"Predict\", command=output).grid(row=11,column=1)\n",
    "\n",
    "tk.Label(root, text=\"choose any one model (DT) or (LR)\").grid(row=0)\n",
    "\n",
    "tk.Button(root, text=\"Decision Tree\", command=lambda: check(\"DT\")).grid(row=0,column=1)\n",
    "\n",
    "tk.Button(root, text=\"Logistic Regression\", command=lambda: check(\"LR\")).grid(row=0,column=2)\n",
    "\n",
    "\n",
    "root.geometry(\"400x300\")\n",
    "\n",
    "root.mainloop()\n",
    "\n"
   ]
  },
  {
   "cell_type": "code",
   "execution_count": null,
   "metadata": {
    "id": "8VdOr5gQNk5Q"
   },
   "outputs": [],
   "source": []
  }
 ],
 "metadata": {
  "colab": {
   "provenance": []
  },
  "kernelspec": {
   "display_name": "Python 3 (ipykernel)",
   "language": "python",
   "name": "python3"
  },
  "language_info": {
   "codemirror_mode": {
    "name": "ipython",
    "version": 3
   },
   "file_extension": ".py",
   "mimetype": "text/x-python",
   "name": "python",
   "nbconvert_exporter": "python",
   "pygments_lexer": "ipython3",
   "version": "3.10.9"
  }
 },
 "nbformat": 4,
 "nbformat_minor": 1
}
